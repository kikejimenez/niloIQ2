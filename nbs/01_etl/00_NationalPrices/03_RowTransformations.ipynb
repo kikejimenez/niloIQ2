{
 "cells": [
  {
   "cell_type": "markdown",
   "metadata": {},
   "source": [
    "# Row Transformations\n",
    "> Process data row by row "
   ]
  },
  {
   "cell_type": "code",
   "execution_count": null,
   "metadata": {},
   "outputs": [],
   "source": [
    "#| default_exp etl.national.transformations"
   ]
  },
  {
   "cell_type": "code",
   "execution_count": null,
   "metadata": {},
   "outputs": [],
   "source": [
    "#| export\n",
    "import os\n",
    "import pathlib\n",
    "import pandas as pd\n",
    "import unidecode\n",
    "\n",
    "from niloIQ2.etl import tables"
   ]
  },
  {
   "cell_type": "code",
   "execution_count": null,
   "metadata": {},
   "outputs": [],
   "source": [
    "#| export\n",
    "\n",
    "keep_columns = [\n",
    "    'producto', 'origen', 'destino', 'date', 'precio_minimo', 'precio_maximo',\n",
    "    'precio_frecuente'\n",
    "]\n",
    "\n",
    "new_column_names = [\n",
    "    'product', 'source', 'dest', 'date', 'min_price', 'max_price', 'price',\n",
    "]\n",
    "\n",
    " \n",
    "old_version = '02'\n",
    "new_version = '03'\n",
    "for table in tables.national_list:\n",
    "\n",
    "    df = pd.read_csv(table.version(old_version),low_memory=False)\n",
    "    df = df[keep_columns]\n",
    "    \n",
    "    df.columns = new_column_names\n",
    "    \n",
    "\n",
    "    df['state'] = df['dest'].apply(lambda x: x.split(':')[0].strip())\n",
    "    df['state'] = df['state'].apply(\n",
    "        lambda x: unidecode.unidecode(x) if x != 'DF' else 'Ciudad de Mexico'\n",
    "    )\n",
    "\n",
    "    df['center'] = df['dest'].apply(lambda x: x.split(':')[-1])\n",
    "\n",
    "    df['import'] = df['source'].apply(lambda x: x == 'Importación')\n",
    "\n",
    "    #df.drop(columns=['destino'],inplace=True)\n",
    "\n",
    "    df['min_price'] = pd.to_numeric(df['min_price'], errors='coerce')\n",
    "    df['max_price'] = pd.to_numeric(df['max_price'], errors='coerce')\n",
    "    df['price'] = pd.to_numeric(df['price'], errors='coerce')\n",
    "\n",
    "\n",
    "    # remove mixed types in min and max prices substiting them with price\n",
    "    df['min_price'].mask(df['min_price'].isnull(), df['price'], inplace=True) \n",
    "    df['max_price'].mask(df['max_price'].isnull(), df['price'], inplace=True) \n",
    "\n",
    "\n",
    "    df.to_csv(table.version(new_version), index=False)"
   ]
  },
  {
   "cell_type": "markdown",
   "metadata": {},
   "source": [
    "### Tests"
   ]
  },
  {
   "cell_type": "code",
   "execution_count": null,
   "metadata": {},
   "outputs": [],
   "source": [
    "\n",
    "## There are no supply centers in Tlaxcala\n",
    "\n",
    "all_states = set(\n",
    "    [\n",
    "        'Aguascalientes', 'Baja California', 'Baja California Sur', 'Campeche',\n",
    "        'Chiapas', 'Chihuahua', 'Coahuila', 'Colima', 'Ciudad de Mexico',\n",
    "        'Durango', 'Guanajuato', 'Guerrero', 'Hidalgo', 'Jalisco', 'Mexico',\n",
    "        'Michoacan', 'Morelos', 'Nayarit', 'Nuevo Leon', 'Oaxaca', 'Puebla',\n",
    "        'Queretaro', 'Quintana Roo', 'San Luis Potosi', 'Sinaloa', 'Sonora',\n",
    "        'Tabasco', 'Tamaulipas', 'Tlaxcala', 'Veracruz', 'Yucatan', 'Zacatecas'\n",
    "    ]\n",
    ")\n",
    "\n",
    "for table in tables.national_list:\n",
    "\n",
    "    old_df = pd.read_csv(table.version(old_version), low_memory=False)\n",
    "    new_df = pd.read_csv(\n",
    "        table.version(new_version)\n",
    "    )  # low_memory=True, all columns are uniform\n",
    "\n",
    "    states = set(\n",
    "        new_df['state'].value_counts().index.values\n",
    "    )  # Mexican states in data\n",
    "\n",
    "    #all True values in import column are 'Importacion'  in origen column\n",
    "    assert states.issubset(all_states)\n",
    "    assert len(states) == 31\n",
    "    assert 'Tlaxcala' not in states\n",
    "\n",
    "    #all True values in import column are 'Importacion'  in origen column\n",
    "    assert all(old_df[new_df['import']]['origen'] == 'Importación')\n",
    "\n",
    "    if 'historica' in table.table_name:\n",
    "        # old historica have mixed values\n",
    "        assert len(old_df[old_df['precio_maximo'] == '--']) == 5  \n",
    "        assert len(old_df[old_df['precio_minimo'] == '--']) == 5  \n",
    "    else: \n",
    "        # old actual is ok\n",
    "        assert len(old_df[old_df['precio_maximo'] == '--']) == 0  \n",
    "        assert len(old_df[old_df['precio_minimo'] == '--']) == 0 \n",
    "\n",
    "\n",
    "    # new version is float type (not mixed)\n",
    "    assert new_df['min_price'].dtype == float\n",
    "    assert new_df['max_price'].dtype == float\n",
    "\n",
    "    # '--' values in historica were replaced by prices\n",
    "\n",
    "    from pandas.testing import assert_series_equal\n",
    "\n",
    "    masked_df = new_df[old_df['precio_minimo'] == '--']\n",
    "\n",
    "    assert_series_equal(masked_df['min_price'], masked_df['price'], check_names=False)\n",
    "    assert_series_equal(masked_df['max_price'], masked_df['price'], check_names=False)\n",
    "\n"
   ]
  },
  {
   "cell_type": "code",
   "execution_count": null,
   "metadata": {},
   "outputs": [],
   "source": []
  }
 ],
 "metadata": {
  "kernelspec": {
   "display_name": "Python 3.10.6 64-bit",
   "language": "python",
   "name": "python3"
  },
  "language_info": {
   "name": "python",
   "version": "3.8.10"
  },
  "vscode": {
   "interpreter": {
    "hash": "31f2aee4e71d21fbe5cf8b01ff0e069b9275f58929596ceb00d14d90e3e16cd6"
   }
  }
 },
 "nbformat": 4,
 "nbformat_minor": 2
}
