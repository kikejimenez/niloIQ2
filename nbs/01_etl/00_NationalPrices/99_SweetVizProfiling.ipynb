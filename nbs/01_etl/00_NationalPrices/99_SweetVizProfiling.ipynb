{
 "cells": [
  {
   "cell_type": "markdown",
   "metadata": {},
   "source": [
    "# Data Profiling\n",
    "> Generate a html data profiler"
   ]
  },
  {
   "cell_type": "code",
   "execution_count": null,
   "metadata": {},
   "outputs": [
    {
     "ename": "",
     "evalue": "",
     "output_type": "error",
     "traceback": [
      "\u001b[1;31mRunning cells with 'Python 3.8.10 64-bit' requires ipykernel package.\n",
      "\u001b[1;31mRun the following command to install 'ipykernel' into the Python environment. \n",
      "\u001b[1;31mCommand: '/usr/bin/python3 -m pip install ipykernel -U --user --force-reinstall'"
     ]
    }
   ],
   "source": [
    "#| default_exp etl.national.data_profiling"
   ]
  },
  {
   "cell_type": "code",
   "execution_count": null,
   "metadata": {},
   "outputs": [
    {
     "ename": "",
     "evalue": "",
     "output_type": "error",
     "traceback": [
      "\u001b[1;31mRunning cells with 'Python 3.8.10 64-bit' requires ipykernel package.\n",
      "\u001b[1;31mRun the following command to install 'ipykernel' into the Python environment. \n",
      "\u001b[1;31mCommand: '/usr/bin/python3 -m pip install ipykernel -U --user --force-reinstall'"
     ]
    }
   ],
   "source": [
    "#| export\n",
    "import pandas as pd \n",
    "\n",
    "import sweetviz as sv\n",
    "\n",
    "from pathlib import Path\n",
    "from os import listdir, path, mkdir\n",
    "from nilo_iq import tables"
   ]
  },
  {
   "cell_type": "code",
   "execution_count": null,
   "metadata": {},
   "outputs": [
    {
     "ename": "",
     "evalue": "",
     "output_type": "error",
     "traceback": [
      "\u001b[1;31mRunning cells with 'Python 3.8.10 64-bit' requires ipykernel package.\n",
      "\u001b[1;31mRun the following command to install 'ipykernel' into the Python environment. \n",
      "\u001b[1;31mCommand: '/usr/bin/python3 -m pip install ipykernel -U --user --force-reinstall'"
     ]
    }
   ],
   "source": [
    "#| export\n",
    "\n",
    "DATA_DIR = path.join(tables.ROOT_DIRECTORY,'data/NationalPrices')\n",
    "PROFILING_DIR = path.join(tables.ROOT_DIRECTORY,'sweet_viz/NationalPrices')\n",
    "\n",
    "def list_and_create_nested_dir(\n",
    "    data_files: list,\n",
    "    profile_files: list,\n",
    "    _dir: str ='',\n",
    "):\n",
    "    \n",
    "    _listdir = listdir(path.join(DATA_DIR, _dir))\n",
    "\n",
    "    for _name in _listdir:\n",
    "\n",
    "        if '.gitignore' in _name or '.dvc' in _name:\n",
    "            continue\n",
    "\n",
    "        _abs_data_name = path.join(DATA_DIR, _dir, _name)\n",
    "        _abs_profile_name = path.join(PROFILING_DIR, _dir, _name)\n",
    "\n",
    "        if path.isfile(_abs_data_name):\n",
    "            data_files.append(_abs_data_name)\n",
    "            profile_files.append(_abs_profile_name)\n",
    "            continue\n",
    "\n",
    "        if not path.isdir(_abs_profile_name):\n",
    "            mkdir(_abs_profile_name)\n",
    "\n",
    "        list_and_create_nested_dir(\n",
    "            data_files=data_files,\n",
    "            profile_files=profile_files,\n",
    "            _dir = path.join(_dir, _name),\n",
    "        )\n",
    "\n",
    "\n",
    "data_files = []\n",
    "profile_files = []\n",
    "\n",
    "list_and_create_nested_dir(\n",
    "    data_files=data_files,\n",
    "    profile_files=profile_files,\n",
    ")"
   ]
  },
  {
   "cell_type": "code",
   "execution_count": null,
   "metadata": {},
   "outputs": [
    {
     "ename": "",
     "evalue": "",
     "output_type": "error",
     "traceback": [
      "\u001b[1;31mRunning cells with 'Python 3.8.10 64-bit' requires ipykernel package.\n",
      "\u001b[1;31mRun the following command to install 'ipykernel' into the Python environment. \n",
      "\u001b[1;31mCommand: '/usr/bin/python3 -m pip install ipykernel -U --user --force-reinstall'"
     ]
    }
   ],
   "source": [
    "#| export\n",
    "\n",
    "\n",
    "\n",
    "rewrite_profile = False\n",
    "for k,_ in enumerate(data_files):\n",
    "\n",
    "    _profile_file =  profile_files[k]+'.html'\n",
    "    if not rewrite_profile and path.isfile(_profile_file):\n",
    "        continue\n",
    "        \n",
    "    \n",
    "    df = pd.read_csv(data_files[k])\n",
    "\n",
    "    if 'precio_minimo' in df.columns:\n",
    "        df['precio_minimo'] = pd.to_numeric(df['precio_minimo'], errors='coerce')\n",
    "        df['precio_maximo'] = pd.to_numeric(df['precio_maximo'], errors='coerce')\n",
    "        \n",
    "    my_report = sv.analyze(df)\n",
    "\n",
    "    my_report.show_html(    \n",
    "        filepath=_profile_file,\n",
    "        open_browser=False,\n",
    "        layout='widescreen',\n",
    "        scale=None,)"
   ]
  },
  {
   "cell_type": "code",
   "execution_count": null,
   "metadata": {},
   "outputs": [
    {
     "ename": "",
     "evalue": "",
     "output_type": "error",
     "traceback": [
      "\u001b[1;31mRunning cells with 'Python 3.8.10 64-bit' requires ipykernel package.\n",
      "\u001b[1;31mRun the following command to install 'ipykernel' into the Python environment. \n",
      "\u001b[1;31mCommand: '/usr/bin/python3 -m pip install ipykernel -U --user --force-reinstall'"
     ]
    }
   ],
   "source": []
  }
 ],
 "metadata": {
  "kernelspec": {
   "display_name": "Python 3.10.6 64-bit",
   "language": "python",
   "name": "python3"
  },
  "language_info": {
   "name": "python",
   "version": "3.10.6"
  },
  "vscode": {
   "interpreter": {
    "hash": "31f2aee4e71d21fbe5cf8b01ff0e069b9275f58929596ceb00d14d90e3e16cd6"
   }
  }
 },
 "nbformat": 4,
 "nbformat_minor": 2
}
