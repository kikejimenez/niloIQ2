{
 "cells": [
  {
   "cell_type": "markdown",
   "metadata": {},
   "source": [
    "# Value Ranges\n",
    "> Outputs the value ranges for select columns"
   ]
  },
  {
   "cell_type": "code",
   "execution_count": null,
   "metadata": {},
   "outputs": [
    {
     "ename": "",
     "evalue": "",
     "output_type": "error",
     "traceback": [
      "\u001b[1;31mRunning cells with 'Python 3.8.10 64-bit' requires ipykernel package.\n",
      "\u001b[1;31mRun the following command to install 'ipykernel' into the Python environment. \n",
      "\u001b[1;31mCommand: '/usr/bin/python3 -m pip install ipykernel -U --user --force-reinstall'"
     ]
    }
   ],
   "source": [
    "#| default_exp  etl.national.date_range"
   ]
  },
  {
   "cell_type": "code",
   "execution_count": null,
   "metadata": {},
   "outputs": [],
   "source": [
    "#| export\n",
    "import pandas as pd\n",
    "from niloIQ2.etl import tables"
   ]
  },
  {
   "cell_type": "code",
   "execution_count": null,
   "metadata": {},
   "outputs": [
    {
     "name": "stdout",
     "output_type": "stream",
     "text": [
      "\n",
      "        For table /workspaces/nilo_iq/data/NationalPrices/02/sniim_granosbasicos:\n",
      "            The time frame starts on 2020-02-12 and conclude on 2022-12-01. A total of 1023 days\n",
      "\n",
      "        For table /workspaces/nilo_iq/data/NationalPrices/02/sniim_granosbasicoshistorica:\n",
      "            The time frame starts on 2010-01-09 and conclude on 2020-12-08. A total of 3986 days\n"
     ]
    }
   ],
   "source": [
    "#| export\n",
    "table:tables.Table\n",
    "\n",
    "for version in ('02',):\n",
    "    for table in tables.national_list:\n",
    "        data = pd.read_csv(table.version(version),low_memory=False,)\n",
    "        ts = pd.to_datetime(data['fecha'])\n",
    "\n",
    "        min_date = ts.min()\n",
    "        max_date = ts.max()\n",
    "        range_date = max_date - min_date\n",
    "\n",
    "        print(\n",
    "        f\"\"\"\n",
    "        For table {table.version(version)}:\n",
    "            The time frame starts on {min_date.strftime('%Y-%m-%d')} and conclude on {max_date.strftime('%Y-%m-%d')}. A total of {range_date.days} days\"\"\"\n",
    "        )"
   ]
  },
  {
   "cell_type": "code",
   "execution_count": null,
   "metadata": {},
   "outputs": [],
   "source": []
  },
  {
   "cell_type": "code",
   "execution_count": null,
   "metadata": {},
   "outputs": [],
   "source": []
  }
 ],
 "metadata": {
  "kernelspec": {
   "display_name": "Python 3.10.6 64-bit",
   "language": "python",
   "name": "python3"
  },
  "language_info": {
   "name": "python",
   "version": "3.10.6"
  },
  "vscode": {
   "interpreter": {
    "hash": "31f2aee4e71d21fbe5cf8b01ff0e069b9275f58929596ceb00d14d90e3e16cd6"
   }
  }
 },
 "nbformat": 4,
 "nbformat_minor": 2
}
