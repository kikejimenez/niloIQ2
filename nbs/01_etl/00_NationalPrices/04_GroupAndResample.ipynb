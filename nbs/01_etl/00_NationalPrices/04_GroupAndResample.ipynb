{
 "cells": [
  {
   "cell_type": "markdown",
   "metadata": {},
   "source": [
    "# Group And Resample\n",
    "> Aggregate on selected columns"
   ]
  },
  {
   "cell_type": "code",
   "execution_count": null,
   "metadata": {},
   "outputs": [],
   "source": [
    "#| default_exp etl.national.group_and_resample"
   ]
  },
  {
   "cell_type": "code",
   "execution_count": null,
   "metadata": {},
   "outputs": [],
   "source": [
    "#| export\n",
    "\n",
    "from typing import Dict, Union\n",
    "import pandas as pd"
   ]
  },
  {
   "cell_type": "code",
   "execution_count": null,
   "metadata": {},
   "outputs": [],
   "source": [
    "#| export\n",
    "PANDAS_FREQS = {'W-SUN': 'Weekly frequency (Sundays)',\n",
    " 'W-MON': 'Weekly frequency (Mondays)',\n",
    " 'W-TUE': 'Weekly frequency (Tuesdays)',\n",
    " 'W-WED': 'Weekly frequency (Wednesdays)',\n",
    " 'W-THU': 'Weekly frequency (Thursdays)',\n",
    " 'W-FRI': 'Weekly frequency (Fridays)',\n",
    " 'W-SAT': 'Weekly frequency (Saturdays)'}"
   ]
  },
  {
   "cell_type": "code",
   "execution_count": null,
   "metadata": {},
   "outputs": [],
   "source": [
    "#| export\n",
    "\n",
    "import os\n",
    "import pathlib\n",
    "import pandas as pd\n",
    "import unidecode\n",
    "\n",
    "from niloIQ2.etl import tables\n",
    "\n",
    "old_version = '03'\n",
    "freq = 'W-MON'\n",
    "new_version = '04_'+freq\n",
    "\n",
    "table: tables.Table\n",
    "\n",
    "for table in tables.national_list:\n",
    "\n",
    "    df = pd.read_csv(\n",
    "        table.version(old_version),\n",
    "        low_memory=False,\n",
    "    )\n",
    "\n",
    "    df['date'] = pd.to_datetime(df['date'], )\n",
    "    \n",
    "    \n",
    "    df.set_index(['state', 'product', 'date'], inplace=True)\n",
    "    df.sort_values(['state', 'product', 'date'], inplace=True)\n",
    "\n",
    "    level_values =  [df.index.get_level_values(i) for i in [0, 1]] \n",
    "\n",
    "    result = df.groupby(\n",
    "       level_values + [pd.Grouper(freq=freq, level=-1)]\n",
    "    ).agg(\n",
    "        {\n",
    "            'min_price': min,\n",
    "            'max_price': max,\n",
    "            'price': 'mean', \n",
    "            'import': 'first'\n",
    "        }\n",
    "    )\n",
    "    \n",
    "    result.to_csv(table.version(new_version))\n",
    "    "
   ]
  },
  {
   "cell_type": "code",
   "execution_count": null,
   "metadata": {},
   "outputs": [],
   "source": []
  }
 ],
 "metadata": {
  "kernelspec": {
   "display_name": "Python 3.8.6 ('base')",
   "language": "python",
   "name": "python3"
  },
  "language_info": {
   "name": "python",
   "version": "3.8.6"
  },
  "vscode": {
   "interpreter": {
    "hash": "d4d1e4263499bec80672ea0156c357c1ee493ec2b1c70f0acce89fc37c4a6abe"
   }
  }
 },
 "nbformat": 4,
 "nbformat_minor": 2
}
