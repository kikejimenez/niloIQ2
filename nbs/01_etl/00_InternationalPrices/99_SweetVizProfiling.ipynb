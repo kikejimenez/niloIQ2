{
 "cells": [
  {
   "cell_type": "markdown",
   "metadata": {},
   "source": [
    "# Data Profiling\n",
    "> Generate a html data profiler"
   ]
  },
  {
   "cell_type": "code",
   "execution_count": 5,
   "metadata": {},
   "outputs": [],
   "source": [
    "#| default_exp etl.international.data_profiling"
   ]
  },
  {
   "cell_type": "code",
   "execution_count": 6,
   "metadata": {},
   "outputs": [],
   "source": [
    "#| export\n",
    "import pandas as pd \n",
    "\n",
    "import sweetviz as sv\n",
    "\n",
    "from pathlib import Path\n",
    "from os import listdir, path, mkdir\n",
    "from etl import tables"
   ]
  },
  {
   "cell_type": "code",
   "execution_count": 7,
   "metadata": {},
   "outputs": [],
   "source": [
    "#| export\n",
    "\n",
    "DATA_DIR = path.join(tables.ROOT_DIRECTORY,'data/InternationalPrices')\n",
    "PROFILING_DIR = path.join(tables.ROOT_DIRECTORY,'sweet_viz/InternationalPrices')\n",
    "\n",
    "def list_and_create_nested_dir(\n",
    "    data_files: list,\n",
    "    profile_files: list,\n",
    "    _dir: str ='',\n",
    "):\n",
    "    \n",
    "    _listdir = listdir(path.join(DATA_DIR, _dir))\n",
    "\n",
    "    for _name in _listdir:\n",
    "\n",
    "        if '.gitignore' in _name or '.dvc' in _name:\n",
    "            continue\n",
    "\n",
    "        _abs_data_name = path.join(DATA_DIR, _dir, _name)\n",
    "        _abs_profile_name = path.join(PROFILING_DIR, _dir, _name)\n",
    "\n",
    "        if path.isfile(_abs_data_name):\n",
    "            data_files.append(_abs_data_name)\n",
    "            profile_files.append(_abs_profile_name)\n",
    "            continue\n",
    "\n",
    "        if not path.isdir(_abs_profile_name):\n",
    "            mkdir(_abs_profile_name)\n",
    "\n",
    "        list_and_create_nested_dir(\n",
    "            data_files=data_files,\n",
    "            profile_files=profile_files,\n",
    "            _dir = path.join(_dir, _name),\n",
    "        )\n",
    "\n",
    "\n",
    "data_files = []\n",
    "profile_files = []\n",
    "\n",
    "list_and_create_nested_dir(\n",
    "    data_files=data_files,\n",
    "    profile_files=profile_files,\n",
    ")"
   ]
  },
  {
   "cell_type": "code",
   "execution_count": 8,
   "metadata": {},
   "outputs": [
    {
     "data": {
      "application/vnd.jupyter.widget-view+json": {
       "model_id": "81b6ae189e7146be9ad5d2e82b040803",
       "version_major": 2,
       "version_minor": 0
      },
      "text/plain": [
       "                                             |          | [  0%]   00:00 -> (? left)"
      ]
     },
     "metadata": {},
     "output_type": "display_data"
    },
    {
     "name": "stdout",
     "output_type": "stream",
     "text": [
      "Report /workspaces/niloIQ/sweet_viz/InternationalPrices/04_D/ams_preciosinternacionalespuntoembarque.html was generated.\n"
     ]
    },
    {
     "data": {
      "application/vnd.jupyter.widget-view+json": {
       "model_id": "f957a107525b41c7802757d26d9d74cf",
       "version_major": 2,
       "version_minor": 0
      },
      "text/plain": [
       "                                             |          | [  0%]   00:00 -> (? left)"
      ]
     },
     "metadata": {},
     "output_type": "display_data"
    },
    {
     "name": "stdout",
     "output_type": "stream",
     "text": [
      "Report /workspaces/niloIQ/sweet_viz/InternationalPrices/04_D/ams_preciosinternacionalespuntoembarquehistorica.html was generated.\n"
     ]
    }
   ],
   "source": [
    "#| export\n",
    "\n",
    "\n",
    "\n",
    "rewrite_profile = False\n",
    "for k,_ in enumerate(data_files):\n",
    "\n",
    "    _profile_file =  profile_files[k]+'.html'\n",
    "    if not rewrite_profile and path.isfile(_profile_file):\n",
    "        continue\n",
    "        \n",
    "    \n",
    "    df = pd.read_csv(data_files[k])\n",
    "\n",
    "\n",
    "    my_report = sv.analyze(df)\n",
    "\n",
    "    my_report.show_html(    \n",
    "        filepath=_profile_file,\n",
    "        open_browser=False,\n",
    "        layout='widescreen',\n",
    "        scale=None,)    "
   ]
  },
  {
   "cell_type": "code",
   "execution_count": null,
   "metadata": {},
   "outputs": [],
   "source": []
  }
 ],
 "metadata": {
  "kernelspec": {
   "display_name": "Python 3.10.6 64-bit",
   "language": "python",
   "name": "python3"
  },
  "language_info": {
   "name": "python",
   "version": "3.8.10"
  },
  "vscode": {
   "interpreter": {
    "hash": "31f2aee4e71d21fbe5cf8b01ff0e069b9275f58929596ceb00d14d90e3e16cd6"
   }
  }
 },
 "nbformat": 4,
 "nbformat_minor": 2
}
