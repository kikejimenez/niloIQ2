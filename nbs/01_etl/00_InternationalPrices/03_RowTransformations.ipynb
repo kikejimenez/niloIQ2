{
 "cells": [
  {
   "cell_type": "markdown",
   "metadata": {},
   "source": [
    "# Row Transformations\n",
    "> Process data row by row "
   ]
  },
  {
   "cell_type": "code",
   "execution_count": null,
   "metadata": {},
   "outputs": [],
   "source": [
    "#| default_exp etl.international.transformations"
   ]
  },
  {
   "cell_type": "markdown",
   "metadata": {},
   "source": [
    "`<<<<<<< HEAD`"
   ]
  },
  {
   "cell_type": "markdown",
   "metadata": {},
   "source": [
    "`=======`"
   ]
  },
  {
   "cell_type": "code",
   "execution_count": null,
   "metadata": {},
   "outputs": [
    {
     "name": "stderr",
     "output_type": "stream",
     "text": [
      "<ipython-input-8-16e046edb205>:31: DtypeWarning: Columns (20,22) have mixed types. Specify dtype option on import or set low_memory=False.\n",
      "  df = pd.read_csv(table.version(old_version))\n",
      "<ipython-input-8-16e046edb205>:31: DtypeWarning: Columns (2,5,8,9,16,17,18,19,20,21,22,24,25,34) have mixed types. Specify dtype option on import or set low_memory=False.\n",
      "  df = pd.read_csv(table.version(old_version))\n"
     ]
    }
   ],
   "source": [
    "#| export\n",
    "import re\n",
    "import os\n",
    "import pathlib\n",
    "import pandas as pd\n",
    "import unidecode\n",
    "\n",
    "from etl import tables\n",
    "\n",
    "old_new_cols = {\n",
    "    \"mercancia\": \"category\",\n",
    "    \"ciudad\": \"city\",\n",
    "    \"paquete\": \"package\",\n",
    "    \"preciominimo\": \"min_price\",\n",
    "    \"precioalto\": \"high_price\",\n",
    "    \"temporada\": \"season\",\n",
    "    \"tamanio\": \"size\",\n",
    "    \"tonoDemanda\": \"demand_tone\",\n",
    "    \"BaseVenta\": \"sales_type\",\n",
    "    \"tonoMercado\": \"market_tone\",\n",
    "    \"comentarios\": \"comments\",\n",
    "    \"CiudadRpt\": \"city_rpt\",\n",
    "    \"date\": \"date\",\n",
    "}\n",
    "\n",
    "old_version = '02'\n",
    "new_version = '03'\n",
    "\n",
    "for table in tables.international_list:\n",
    "\n",
    "    df = pd.read_csv(table.version(old_version))\n",
    "    df = df[old_new_cols.keys()]\n",
    "    df.columns = old_new_cols.values()\n",
    "\n",
    "    df['min_price'] = pd.to_numeric(df['min_price'], errors='coerce')\n",
    "    df['high_price'] = pd.to_numeric(df['high_price'], errors='coerce')\n",
    "\n",
    "    # df['price'] = (1 / 2.)*(df['min_price'] + df['high_price'])\n",
    "    df['price'] = df[['min_price', 'high_price']].mean(axis=1)\n",
    "  \n",
    "    df['category'] = df['category'].apply(lambda x: re.sub(r\"\\s+\", \"_\", str(x)))\n",
    "    df['category'] = df['category'].apply(lambda x: re.sub(r\",+\", \"\", str(x)))\n",
    "    df['category'] = df['category'].apply(lambda x: str(x).lower())\n",
    "    # df['organic'] = df['tipo'].apply(lambda x: x == 'Organic')\n",
    "\n",
    "    # # df['product'] = df['variedad'] + ' ' + df['subvariedad']\n",
    "\n",
    "    # # df.drop(columns=['tipo', 'mercancia', 'variedad', 'subvariedad'])\n",
    "\n",
    "    df.to_csv(table.version(new_version), index=False)"
   ]
  },
  {
   "cell_type": "markdown",
   "metadata": {},
   "source": [
    "`>>>>>>> 0087fccc709cc36cbcf132f96c23410be91ce70d`"
   ]
  },
  {
   "cell_type": "code",
   "execution_count": null,
   "metadata": {},
   "outputs": [
    {
     "data": {
      "text/plain": [
       "category        object\n",
       "city            object\n",
       "package         object\n",
       "min_price      float64\n",
       "high_price     float64\n",
       "season         float64\n",
       "size            object\n",
       "demand_tone     object\n",
       "sales_type      object\n",
       "market_tone     object\n",
       "comments        object\n",
       "city_rpt        object\n",
       "date            object\n",
       "price          float64\n",
       "dtype: object"
      ]
     },
     "execution_count": null,
     "metadata": {},
     "output_type": "execute_result"
    }
   ],
   "source": [
    "df.dtypes"
   ]
  },
  {
   "cell_type": "code",
   "execution_count": null,
   "metadata": {},
   "outputs": [
    {
     "ename": "AttributeError",
     "evalue": "module 'pandas' has no attribute 'to'",
     "output_type": "error",
     "traceback": [
      "\u001b[0;31m---------------------------------------------------------------------------\u001b[0m",
      "\u001b[0;31mAttributeError\u001b[0m                            Traceback (most recent call last)",
      "\u001b[1;32m/workspaces/niloIQ/nbs/InternationalPrices/03_RowTransformations.ipynb Cell 8\u001b[0m in \u001b[0;36m<cell line: 1>\u001b[0;34m()\u001b[0m\n\u001b[0;32m----> <a href='vscode-notebook-cell://dev-container%2B2f686f6d652f656e72697175652f6e696c6f5f69712f6e696c6f4951/workspaces/niloIQ/nbs/InternationalPrices/03_RowTransformations.ipynb#X11sdnNjb2RlLXJlbW90ZQ%3D%3D?line=0'>1</a>\u001b[0m pd\u001b[39m.\u001b[39;49mto\n",
      "File \u001b[0;32m/opt/conda/lib/python3.8/site-packages/pandas/__init__.py:261\u001b[0m, in \u001b[0;36m__getattr__\u001b[0;34m(name)\u001b[0m\n\u001b[1;32m    257\u001b[0m     \u001b[39mfrom\u001b[39;00m \u001b[39mpandas\u001b[39;00m\u001b[39m.\u001b[39;00m\u001b[39mcore\u001b[39;00m\u001b[39m.\u001b[39;00m\u001b[39marrays\u001b[39;00m\u001b[39m.\u001b[39;00m\u001b[39msparse\u001b[39;00m \u001b[39mimport\u001b[39;00m SparseArray \u001b[39mas\u001b[39;00m _SparseArray\n\u001b[1;32m    259\u001b[0m     \u001b[39mreturn\u001b[39;00m _SparseArray\n\u001b[0;32m--> 261\u001b[0m \u001b[39mraise\u001b[39;00m \u001b[39mAttributeError\u001b[39;00m(\u001b[39mf\u001b[39m\u001b[39m\"\u001b[39m\u001b[39mmodule \u001b[39m\u001b[39m'\u001b[39m\u001b[39mpandas\u001b[39m\u001b[39m'\u001b[39m\u001b[39m has no attribute \u001b[39m\u001b[39m'\u001b[39m\u001b[39m{\u001b[39;00mname\u001b[39m}\u001b[39;00m\u001b[39m'\u001b[39m\u001b[39m\"\u001b[39m)\n",
      "\u001b[0;31mAttributeError\u001b[0m: module 'pandas' has no attribute 'to'"
     ]
    }
   ],
   "source": [
    "pd.to"
   ]
  }
 ],
 "metadata": {
  "kernelspec": {
   "display_name": "Python 3.10.6 64-bit",
   "language": "python",
   "name": "python3"
  },
  "language_info": {
   "name": "python",
   "version": "3.8.10"
  },
  "vscode": {
   "interpreter": {
    "hash": "31f2aee4e71d21fbe5cf8b01ff0e069b9275f58929596ceb00d14d90e3e16cd6"
   }
  }
 },
 "nbformat": 4,
 "nbformat_minor": 2
}
