{
 "cells": [
  {
   "cell_type": "markdown",
   "metadata": {},
   "source": [
    "# Group And Resample\n",
    "> Aggregate on selected columns"
   ]
  },
  {
   "cell_type": "code",
   "execution_count": null,
   "metadata": {},
   "outputs": [
    {
     "ename": "",
     "evalue": "",
     "output_type": "error",
     "traceback": [
      "\u001b[1;31mRunning cells with 'Python 3.8.5 64-bit' requires ipykernel package.\n",
      "\u001b[1;31mRun the following command to install 'ipykernel' into the Python environment. \n",
      "\u001b[1;31mCommand: '/usr/bin/python3 -m pip install ipykernel -U --user --force-reinstall'"
     ]
    }
   ],
   "source": [
    "#| default_exp etl.international.group_and_resample"
   ]
  },
  {
   "cell_type": "code",
   "execution_count": null,
   "metadata": {},
   "outputs": [
    {
     "ename": "",
     "evalue": "",
     "output_type": "error",
     "traceback": [
      "\u001b[1;31mRunning cells with 'Python 3.8.5 64-bit' requires ipykernel package.\n",
      "\u001b[1;31mRun the following command to install 'ipykernel' into the Python environment. \n",
      "\u001b[1;31mCommand: '/usr/bin/python3 -m pip install ipykernel -U --user --force-reinstall'"
     ]
    }
   ],
   "source": [
    "#| export\n",
    "\n",
    "from typing import Dict, Union\n",
    "import pandas as pd"
   ]
  },
  {
   "cell_type": "code",
   "execution_count": null,
   "metadata": {},
   "outputs": [
    {
     "ename": "",
     "evalue": "",
     "output_type": "error",
     "traceback": [
      "\u001b[1;31mRunning cells with 'Python 3.8.5 64-bit' requires ipykernel package.\n",
      "\u001b[1;31mRun the following command to install 'ipykernel' into the Python environment. \n",
      "\u001b[1;31mCommand: '/usr/bin/python3 -m pip install ipykernel -U --user --force-reinstall'"
     ]
    }
   ],
   "source": [
    "#| export\n",
    "PANDAS_FREQS = {'W-SUN': 'Weekly frequency (Sundays)',\n",
    " 'W-MON': 'Weekly frequency (Mondays)',\n",
    " 'W-TUE': 'Weekly frequency (Tuesdays)',\n",
    " 'W-WED': 'Weekly frequency (Wednesdays)',\n",
    " 'W-THU': 'Weekly frequency (Thursdays)',\n",
    " 'W-FRI': 'Weekly frequency (Fridays)',\n",
    " 'W-SAT': 'Weekly frequency (Saturdays)'}"
   ]
  },
  {
   "cell_type": "code",
   "execution_count": null,
   "metadata": {},
   "outputs": [
    {
     "ename": "",
     "evalue": "",
     "output_type": "error",
     "traceback": [
      "\u001b[1;31mRunning cells with 'Python 3.8.5 64-bit' requires ipykernel package.\n",
      "\u001b[1;31mRun the following command to install 'ipykernel' into the Python environment. \n",
      "\u001b[1;31mCommand: '/usr/bin/python3 -m pip install ipykernel -U --user --force-reinstall'"
     ]
    }
   ],
   "source": [
    "#| include: false\n",
    "\n",
    "import os\n",
    "import pathlib\n",
    "import pandas as pd\n",
    "import unidecode\n",
    "\n",
    "from etl import tables\n",
    "\n",
    "old_version = '03'\n",
    "freq = 'D'\n",
    "new_version = '04_' + freq\n",
    "\n",
    "multindex = [\n",
    "    \"category\",\n",
    "    \"package\",\n",
    "    \"city\",\n",
    "    # \"min_price\",\n",
    "    # \"high_price\",\n",
    "    # \"season\",\n",
    "    # \"size\",\n",
    "    # \"demand_tone\",\n",
    "    # \"sales_type\",\n",
    "    # \"market_tone\",\n",
    "    # \"comments\",\n",
    "    # \"city_rpt\",\n",
    "    \"date\",\n",
    "]\n",
    "\n",
    "table: tables.Table\n",
    "\n",
    "for table in tables.international_list:\n",
    "\n",
    "    df = pd.read_csv(\n",
    "        table.version(old_version),\n",
    "        low_memory=False,\n",
    "    )\n",
    "\n",
    "    df['date'] = pd.to_datetime(df['date'], )\n",
    "\n",
    "    df.set_index(multindex, inplace=True)\n",
    "    df.sort_values(multindex, inplace=True)\n",
    "\n",
    "    level_values = [\n",
    "        df.index.get_level_values(i) for i in range(len(multindex) - 1)\n",
    "    ]\n",
    "\n",
    "    result = df.groupby(level_values + [pd.Grouper(freq=freq, level=-1)]).agg({\n",
    "        'price':\n",
    "        'mean',\n",
    "        'size':\n",
    "        pd.Series.mode,\n",
    "        'city_rpt':\n",
    "        pd.Series.mode,\n",
    "        'comments':\n",
    "        pd.Series.mode\n",
    "    })\n",
    "\n",
    "    result.to_csv(table.version(new_version))"
   ]
  },
  {
   "cell_type": "code",
   "execution_count": null,
   "metadata": {},
   "outputs": [
    {
     "ename": "",
     "evalue": "",
     "output_type": "error",
     "traceback": [
      "\u001b[1;31mRunning cells with 'Python 3.8.5 64-bit' requires ipykernel package.\n",
      "\u001b[1;31mRun the following command to install 'ipykernel' into the Python environment. \n",
      "\u001b[1;31mCommand: '/usr/bin/python3 -m pip install ipykernel -U --user --force-reinstall'"
     ]
    }
   ],
   "source": [
    "[x for x in range(3-1)]"
   ]
  },
  {
   "cell_type": "code",
   "execution_count": null,
   "metadata": {},
   "outputs": [
    {
     "ename": "",
     "evalue": "",
     "output_type": "error",
     "traceback": [
      "\u001b[1;31mRunning cells with 'Python 3.8.5 64-bit' requires ipykernel package.\n",
      "\u001b[1;31mRun the following command to install 'ipykernel' into the Python environment. \n",
      "\u001b[1;31mCommand: '/usr/bin/python3 -m pip install ipykernel -U --user --force-reinstall'"
     ]
    }
   ],
   "source": [
    "result"
   ]
  },
  {
   "cell_type": "code",
   "execution_count": null,
   "metadata": {},
   "outputs": [
    {
     "ename": "",
     "evalue": "",
     "output_type": "error",
     "traceback": [
      "\u001b[1;31mRunning cells with 'Python 3.8.5 64-bit' requires ipykernel package.\n",
      "\u001b[1;31mRun the following command to install 'ipykernel' into the Python environment. \n",
      "\u001b[1;31mCommand: '/usr/bin/python3 -m pip install ipykernel -U --user --force-reinstall'"
     ]
    }
   ],
   "source": []
  }
 ],
 "metadata": {
  "kernelspec": {
   "display_name": "Python 3.8.6 ('base')",
   "language": "python",
   "name": "python3"
  },
  "language_info": {
   "name": "python",
   "version": "3.8.6"
  },
  "vscode": {
   "interpreter": {
    "hash": "d4d1e4263499bec80672ea0156c357c1ee493ec2b1c70f0acce89fc37c4a6abe"
   }
  }
 },
 "nbformat": 4,
 "nbformat_minor": 2
}
