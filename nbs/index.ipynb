{
 "cells": [
  {
   "cell_type": "markdown",
   "metadata": {},
   "source": [
    "# Nilo IQ \n",
    "> Machine Learning Grain Price Forecasting"
   ]
  },
  {
   "cell_type": "markdown",
   "metadata": {},
   "source": [
    "A set of pipelines that:\n",
    "- Extract, load and transform the goods prices data\n",
    "- Clean and preprocess time series data.\n",
    "- Forecasts the prices using Machine Learning"
   ]
  },
  {
   "cell_type": "markdown",
   "metadata": {},
   "source": [
    "## How-To"
   ]
  },
  {
   "cell_type": "markdown",
   "metadata": {},
   "source": [
    "### ETL Pipeline"
   ]
  },
  {
   "cell_type": "markdown",
   "metadata": {},
   "source": [
    "The ETL pipeline is triggered by the following imports"
   ]
  },
  {
   "cell_type": "code",
   "execution_count": 3,
   "metadata": {},
   "outputs": [],
   "source": [
    "from niloIQ2.etl.national import (\n",
    "    load,\n",
    "    to_datetime,\n",
    "    transformations,\n",
    "    group_and_resample,\n",
    ")"
   ]
  },
  {
   "cell_type": "markdown",
   "metadata": {},
   "source": [
    "Note:\n",
    "- The database parameters should be on the environment variables `USER`, `PASS`, `IP`, `PORT`, `DB` \n",
    "- Tables are stored in _data_ folder specified in the tables module"
   ]
  },
  {
   "cell_type": "markdown",
   "metadata": {},
   "source": [
    "### National Pipeline"
   ]
  },
  {
   "cell_type": "markdown",
   "metadata": {},
   "source": [
    "A forecast for a given SKU is obtained by:"
   ]
  },
  {
   "cell_type": "code",
   "execution_count": null,
   "metadata": {},
   "outputs": [],
   "source": [
    "from niloIQ2.experiments.merlion.tracking import Tracking\n",
    "\n",
    "Tracking(\n",
    "    kpi=\"price\",\n",
    "    freq=\"W-MON\",\n",
    "    load_models=False,\n",
    "    periods=3,\n",
    "    since_year= 2017,\n",
    "    product=\"Haba\",\n",
    "    state=\"Sinaloa\",\n",
    "    val_frac=0,\n",
    ")"
   ]
  },
  {
   "cell_type": "markdown",
   "metadata": {},
   "source": [
    "It will be generate the following CSV file:\n",
    "```csv\n",
    "run_id,experiment_id,status,artifact_uri,start_time,end_time,metrics.sMAPE,metrics.rRSME,metrics.RMSPE,params.freq,params.product,params.kpi,params.state,params.pred_start_date,params.since_year,params.model,params.predictions,tags.mlflow.user,tags.mlflow.runName,tags.mlflow.source.name,tags.mlflow.source.type\n",
    "ccc403016b234ecaa31169bbca183540,1,FINISHED,file:///workspaces/niloIQ/data/NationalPrices/mlruns/ccc403016b234ecaa31169bbca183540/artifacts,2022-09-13 17:15:16.292000+00:00,2022-09-13 17:15:16.352000+00:00,8.53975803139246,0.19913058837080908,0.17119108853402193,W-MON,Haba,price,Sinaloa,2020-12-14,2017,MSES,\"{'2020-12-21': 82.09642105454455, '2020-12-28': 83.16567873939009}\",root,Merlion,/opt/conda/lib/python3.8/site-packages/ipykernel_launcher.py,LOCAL\n",
    "515d033aaa15470ab6941a3706f9723c,1,FINISHED,file:///workspaces/niloIQ/data/NationalPrices/mlruns/515d033aaa15470ab6941a3706f9723c/artifacts,2022-09-13 17:15:16.225000+00:00,2022-09-13 17:15:16.286000+00:00,4.784673600090319,0.05832596379996142,0.06462044174412286,W-MON,Haba,price,Sinaloa,2020-12-14,2017,Prophet,\"{'2020-12-21': 77.82838806446517, '2020-12-28': 81.21444198805075}\",root,Merlion,/opt/conda/lib/python3.8/site-packages/ipykernel_launcher.py,LOCAL\n",
    "8d0492cc7ca74a3c97e06c14e1b73cc8,1,FINISHED,file:///workspaces/niloIQ/data/NationalPrices/mlruns/8d0492cc7ca74a3c97e06c14e1b73cc8/artifacts,2022-09-13 17:15:16.157000+00:00,2022-09-13 17:15:16.220000+00:00,5.451499162110787,0.10475752508652642,0.1285775501849338,W-MON,Haba,price,Sinaloa,2020-12-14,2017,Arima,\"{'2020-12-21': 76.14994239700769, '2020-12-28': 75.7897810838238}\",root,Merlion,/opt/conda/lib/python3.8/site-packages/ipykernel_launcher.py,LOCAL\n",
    "\n",
    "```"
   ]
  },
  {
   "cell_type": "markdown",
   "metadata": {},
   "source": [
    "It includes:\n",
    "- The performance metrics for the three ML models considered\n",
    "- The forecast for the next two weeks"
   ]
  },
  {
   "cell_type": "markdown",
   "metadata": {},
   "source": [
    "## Development "
   ]
  },
  {
   "cell_type": "markdown",
   "metadata": {},
   "source": [
    "This project has been created using the python library `nbdev`. For further usage, please refer to the [nbdev documentation](https://nbdev.fast.ai/)"
   ]
  },
  {
   "cell_type": "markdown",
   "metadata": {},
   "source": [
    "## Authors\n"
   ]
  },
  {
   "cell_type": "markdown",
   "metadata": {},
   "source": [
    "Authors\n",
    "- Enrique Jimenez\n",
    "- Hector Romero"
   ]
  }
 ],
 "metadata": {
  "kernelspec": {
   "display_name": "Python 3.8.6 ('base')",
   "language": "python",
   "name": "python3"
  },
  "language_info": {
   "codemirror_mode": {
    "name": "ipython",
    "version": 3
   },
   "file_extension": ".py",
   "mimetype": "text/x-python",
   "name": "python",
   "nbconvert_exporter": "python",
   "pygments_lexer": "ipython3",
   "version": "3.8.6"
  },
  "vscode": {
   "interpreter": {
    "hash": "d4d1e4263499bec80672ea0156c357c1ee493ec2b1c70f0acce89fc37c4a6abe"
   }
  }
 },
 "nbformat": 4,
 "nbformat_minor": 4
}
