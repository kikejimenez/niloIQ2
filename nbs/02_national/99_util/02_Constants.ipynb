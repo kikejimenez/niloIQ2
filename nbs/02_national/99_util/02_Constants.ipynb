{
 "cells": [
  {
   "cell_type": "raw",
   "metadata": {},
   "source": [
    "---\n",
    "{}\n",
    "\n",
    "---\n",
    "\n"
   ]
  },
  {
   "cell_type": "code",
   "execution_count": null,
   "id": "encouraging-planning",
   "metadata": {},
   "outputs": [],
   "source": [
    "#| default_exp util.constants"
   ]
  },
  {
   "cell_type": "code",
   "execution_count": null,
   "id": "prepared-agreement",
   "metadata": {},
   "outputs": [],
   "source": [
    "#| export\n",
    "from pathlib import Path\n",
    "from os import path\n",
    "from national import util"
   ]
  },
  {
   "cell_type": "code",
   "execution_count": null,
   "id": "failing-tamil",
   "metadata": {},
   "outputs": [],
   "source": [
    "#| export\n",
    "\n",
    "PROJECT_PATH = Path('/', 'wd')\n",
    "DATA_PATH = Path(PROJECT_PATH)\n",
    "\n",
    "PLOTLY_THEME= 'plotly_white'"
   ]
  },
  {
   "cell_type": "code",
   "execution_count": null,
   "id": "06a14d9c",
   "metadata": {},
   "outputs": [],
   "source": []
  },
  {
   "cell_type": "code",
   "execution_count": null,
   "id": "yellow-relative",
   "metadata": {},
   "outputs": [],
   "source": [
    "from national.util.constants import PROJECT_PATH"
   ]
  },
  {
   "cell_type": "code",
   "execution_count": null,
   "id": "naked-copper",
   "metadata": {},
   "outputs": [
    {
     "data": {
      "text/plain": [
       "PosixPath('/wd')"
      ]
     },
     "execution_count": null,
     "metadata": {},
     "output_type": "execute_result"
    }
   ],
   "source": [
    "DATA_PATH"
   ]
  },
  {
   "cell_type": "code",
   "execution_count": null,
   "id": "congressional-sugar",
   "metadata": {},
   "outputs": [],
   "source": [
    "#| export\n",
    "\n",
    "_DAYS_ABBR = ['SUN', 'MON', 'TUE', 'WED', 'THU', 'FRI', 'SAT']\n",
    "_DAY_LONG = [\n",
    "    'Sunday', 'Monday', 'Tuesday', 'Wednesday', 'Thursday', 'Friday', 'Saturday'\n",
    "]\n",
    "\n",
    "PANDAS_FREQS = {\n",
    "    f\"W-{x}\": f\"weekly frequency ({y}s)\" for x, y in zip(_DAYS_ABBR, _DAY_LONG)\n",
    "}"
   ]
  },
  {
   "cell_type": "code",
   "execution_count": null,
   "id": "found-headquarters",
   "metadata": {},
   "outputs": [
    {
     "data": {
      "text/plain": [
       "{'W-SUN': 'weekly frequency (Sundays)',\n",
       " 'W-MON': 'weekly frequency (Mondays)',\n",
       " 'W-TUE': 'weekly frequency (Tuesdays)',\n",
       " 'W-WED': 'weekly frequency (Wednesdays)',\n",
       " 'W-THU': 'weekly frequency (Thursdays)',\n",
       " 'W-FRI': 'weekly frequency (Fridays)',\n",
       " 'W-SAT': 'weekly frequency (Saturdays)'}"
      ]
     },
     "execution_count": null,
     "metadata": {},
     "output_type": "execute_result"
    }
   ],
   "source": [
    "PANDAS_FREQS"
   ]
  },
  {
   "cell_type": "code",
   "execution_count": null,
   "id": "suitable-master",
   "metadata": {},
   "outputs": [],
   "source": [
    "#| export\n",
    "ARIMA_MAX_STEPS = 60\n",
    "SMES_MAX_STEPS = 60\n",
    "\n",
    "# PERCENTAGE_TEST_DATASET_FOR_MAX_STEPS = 0.7"
   ]
  },
  {
   "cell_type": "code",
   "execution_count": null,
   "id": "applicable-grass",
   "metadata": {},
   "outputs": [],
   "source": [
    "#| export \n",
    "PERCENTAGE_CONFIDENCE_INTERVAL = {\n",
    "    50: 0.67,\n",
    "    55: 0.76,\n",
    "    60: 0.84,\n",
    "    65: 0.93,\n",
    "    70: 1.04,\n",
    "    75: 1.15,\n",
    "    80: 1.28,\n",
    "    85: 1.44,\n",
    "    90: 1.64,\n",
    "    95: 1.96,\n",
    "    96: 2.05,\n",
    "    97: 2.17,\n",
    "    98: 2.33,\n",
    "    99: 2.58,\n",
    "}"
   ]
  }
 ],
 "metadata": {
  "kernelspec": {
   "display_name": "Python 3.8.10 64-bit",
   "language": "python",
   "name": "python3"
  }
 },
 "nbformat": 4,
 "nbformat_minor": 5
}
