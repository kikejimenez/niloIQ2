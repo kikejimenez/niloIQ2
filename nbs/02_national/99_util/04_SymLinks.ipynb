{
 "cells": [
  {
   "cell_type": "raw",
   "metadata": {},
   "source": [
    "---\n",
    "{}\n",
    "\n",
    "---\n",
    "\n"
   ]
  },
  {
   "cell_type": "code",
   "execution_count": null,
   "metadata": {},
   "outputs": [],
   "source": [
    "#| default_exp util.sym_links"
   ]
  },
  {
   "cell_type": "code",
   "execution_count": null,
   "metadata": {},
   "outputs": [],
   "source": [
    "#| export\n",
    "\n",
    "from pathlib import Path\n",
    "import os"
   ]
  },
  {
   "cell_type": "code",
   "execution_count": null,
   "metadata": {},
   "outputs": [],
   "source": [
    "#| export \n",
    "\n",
    "first_hundred = [f\"{x:02}\" for x in range(100)]\n",
    "\n",
    "def is_valid_dir(name):\n",
    "\n",
    "    if len(name) < 4:\n",
    "        return False\n",
    "    if name[:2] not in first_hundred:\n",
    "        return False\n",
    "    if name[-6:] == '.ipynb':\n",
    "        return False\n",
    "\n",
    "    return True"
   ]
  },
  {
   "cell_type": "code",
   "execution_count": null,
   "metadata": {},
   "outputs": [],
   "source": [
    "#| export\n",
    "lib_name ='national'\n",
    "source_path = os.path.join('/','wd',lib_name, lib_name)\n",
    "\n",
    "\n",
    "def generate(_dir):\n",
    "    sym_path = os.path.join(_dir,lib_name)\n",
    "    if os.path.islink(sym_path):\n",
    "        os.system(f\"rm {sym_path}\")\n",
    "    if os.path.islink(sym_path+'_ss'):\n",
    "        os.system(f\"rm {sym_path+'_ss'}\")\n",
    "    \n",
    "    os.symlink(source_path,sym_path, target_is_directory=True)\n",
    "\n",
    "\n",
    "    subdirs = [\n",
    "        os.path.join(_dir, y) for y in os.listdir(_dir) if is_valid_dir(y)\n",
    "\n",
    "        ]\n",
    "\n",
    "    for x in os.listdir(_dir):\n",
    "\n",
    "        if not is_valid_dir(x):\n",
    "            continue\n",
    "        \n",
    "        child_dir = os.path.join(_dir,x)\n",
    "        if not os.path.isdir(child_dir):\n",
    "            continue\n",
    "\n",
    "\n",
    "        generate(child_dir)"
   ]
  },
  {
   "cell_type": "code",
   "execution_count": null,
   "metadata": {},
   "outputs": [],
   "source": [
    "generate('/wd/nbs')"
   ]
  },
  {
   "cell_type": "code",
   "execution_count": null,
   "metadata": {},
   "outputs": [],
   "source": [
    "#generate('/wd/national/presentation')"
   ]
  },
  {
   "cell_type": "code",
   "execution_count": null,
   "metadata": {},
   "outputs": [],
   "source": []
  }
 ],
 "metadata": {
  "kernelspec": {
   "display_name": "Python 3.8.6 64-bit ('base': conda)",
   "language": "python",
   "name": "python3"
  }
 },
 "nbformat": 4,
 "nbformat_minor": 2
}
