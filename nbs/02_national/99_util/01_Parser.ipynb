{
 "cells": [
  {
   "cell_type": "raw",
   "metadata": {},
   "source": [
    "---\n",
    "{}\n",
    "\n",
    "---\n",
    "\n"
   ]
  },
  {
   "cell_type": "code",
   "execution_count": null,
   "id": "better-bikini",
   "metadata": {},
   "outputs": [],
   "source": [
    "#| default_exp util.parser"
   ]
  },
  {
   "cell_type": "code",
   "execution_count": null,
   "id": "disciplinary-madonna",
   "metadata": {},
   "outputs": [],
   "source": [
    "#| export\n",
    "import json\n",
    "from pathlib import Path"
   ]
  },
  {
   "cell_type": "code",
   "execution_count": null,
   "id": "prostate-conversion",
   "metadata": {},
   "outputs": [],
   "source": [
    "#| export\n",
    "def find_source(\n",
    "    filename: str,\n",
    "    #   cell_type: str = None,\n",
    "    tags: list,\n",
    ") -> list:\n",
    "\n",
    "    nb = json.load(open(filename,))\n",
    "    cells = []\n",
    "    for cell in nb['cells']:\n",
    "\n",
    "        #         if 'source' not in cell.keys():\n",
    "        #             continue\n",
    "        if len(cell['source']) == 0:\n",
    "            continue\n",
    "\n",
    "        if cell['source'][0].strip() in tags:\n",
    "            cell['source'] = cell['source'][1:]\n",
    "            cells.append(cell)\n",
    "\n",
    "    return cells"
   ]
  },
  {
   "cell_type": "code",
   "execution_count": null,
   "id": "wound-muscle",
   "metadata": {},
   "outputs": [],
   "source": [
    "find_source(\n",
    "    './test_for_parser.json',\n",
    "    tags=['##%% closing'],\n",
    ");"
   ]
  },
  {
   "cell_type": "code",
   "execution_count": null,
   "id": "heard-advisory",
   "metadata": {},
   "outputs": [],
   "source": [
    "#| export\n",
    "def generate_notebook(\n",
    "    absolute_path: Path,\n",
    "    filename: str,\n",
    "):\n",
    "\n",
    "    old_nb = json.load(open(filename,))\n",
    "\n",
    "    new_nb = old_nb.copy()\n",
    "\n",
    "    new_nb['cells'] = []\n",
    "\n",
    "    for cell in old_nb['cells']:\n",
    "\n",
    "        if len(cell['source']) == 0:\n",
    "            new_nb['cells'].append(cell)\n",
    "            continue\n",
    "            \n",
    "        if cell['source'][0].strip() == \"##%% ommit\":\n",
    "            continue\n",
    "\n",
    "        if cell['source'][0].strip() == \"##%% import\":\n",
    "\n",
    "            fn = cell['source'][1].split('#')[-1].strip()\n",
    "            fn = Path.joinpath(absolute_path, fn)\n",
    "            new_sources = find_source(\n",
    "                fn,\n",
    "                tags=['##%% export'],\n",
    "            )\n",
    "\n",
    "            new_nb['cells'] = new_nb['cells'] + new_sources\n",
    "        else:\n",
    "\n",
    "            new_nb['cells'].append(cell)\n",
    "\n",
    "    return new_nb"
   ]
  },
  {
   "cell_type": "code",
   "execution_count": null,
   "id": "continuing-contributor",
   "metadata": {},
   "outputs": [],
   "source": [
    "#| export\n",
    "def notebook_to_file(\n",
    "    absolute_path: Path,\n",
    "    source: str,\n",
    "    target: str,\n",
    ") -> None:\n",
    "    new_nb = generate_notebook(\n",
    "        absolute_path=absolute_path,\n",
    "        filename=source,\n",
    "    )\n",
    "    json.dump(new_nb, open(target, 'w'))"
   ]
  },
  {
   "cell_type": "code",
   "execution_count": null,
   "id": "oriented-factory",
   "metadata": {},
   "outputs": [],
   "source": [
    "a = generate_notebook(\n",
    "    absolute_path=Path.cwd().parent,\n",
    "    filename=Path(Path.cwd().parent, '02_Template.ipynb'),\n",
    ")"
   ]
  },
  {
   "cell_type": "code",
   "execution_count": null,
   "id": "potential-vermont",
   "metadata": {},
   "outputs": [],
   "source": [
    "#a['cells']"
   ]
  },
  {
   "cell_type": "code",
   "execution_count": null,
   "id": "orange-north",
   "metadata": {},
   "outputs": [],
   "source": [
    "#| export\n",
    "\n",
    "\n",
    "def output_to_markdown(\n",
    "    absolute_path: Path,\n",
    "    source: str,\n",
    "    target: str,\n",
    "):\n",
    "    \"\"\"Extracts an standard output from the flag `##%% output`, converts it \n",
    "    to a markdown cell and appends it to the notebook.\n",
    "    \"\"\"\n",
    "\n",
    "    old_nb = json.load(open(source,))\n",
    "\n",
    "    new_nb = old_nb.copy()\n",
    "\n",
    "    new_nb['cells'] = []\n",
    "\n",
    "    for cell in old_nb['cells']:\n",
    "\n",
    "        new_nb['cells'].append(cell)\n",
    "\n",
    "        if len(cell['source']) == 0 or len(cell['outputs']) == 0:\n",
    "            continue\n",
    "            \n",
    "        if cell['source'][0].strip() == \"##%% ommit\":\n",
    "            continue\n",
    "\n",
    "        if cell['source'][0].strip() == \"##%% import\":\n",
    "\n",
    "            new_source = [\n",
    "                ' '.join(output['text']) for output in cell['outputs']\n",
    "            ]\n",
    "            new_cell = cell.copy()\n",
    "\n",
    "            new_cell['cell_type'] = 'markdown'\n",
    "            new_cell['id'] = 'new-markdown-' + cell['id']\n",
    "            new_cell['outputs'] = []\n",
    "            new_cell['source'] = [\"##%% export  \"] + [\"\\n\"] + new_source\n",
    "\n",
    "            new_nb['cells'].append(new_cell,)\n",
    "\n",
    "    json.dump(new_nb, open(target, 'w'))"
   ]
  },
  {
   "cell_type": "code",
   "execution_count": null,
   "id": "joined-protein",
   "metadata": {},
   "outputs": [],
   "source": [
    "#| export\n",
    "\n",
    "\n",
    "class Parser:\n",
    "\n",
    "    def __init__(self):\n",
    "        self.current_path = Path.cwd()\n",
    "\n",
    "    @staticmethod\n",
    "    def outputs_to_markdowns(filename: str) -> None:\n",
    "\n",
    "        parser = Parser()\n",
    "\n",
    "        output_to_markdown(\n",
    "            absolute_path=parser.current_path,\n",
    "            source=filename,\n",
    "            target=filename,\n",
    "        )"
   ]
  },
  {
   "cell_type": "code",
   "execution_count": null,
   "id": "shared-notebook",
   "metadata": {},
   "outputs": [],
   "source": []
  }
 ],
 "metadata": {
  "kernelspec": {
   "display_name": "Python 3",
   "language": "python",
   "name": "python3"
  }
 },
 "nbformat": 4,
 "nbformat_minor": 5
}
