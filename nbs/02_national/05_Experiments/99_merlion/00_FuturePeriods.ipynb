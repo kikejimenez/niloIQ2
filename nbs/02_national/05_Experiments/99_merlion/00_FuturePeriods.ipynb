{
 "cells": [
  {
   "cell_type": "raw",
   "metadata": {},
   "source": [
    "---\n",
    "{}\n",
    "\n",
    "---\n",
    "\n"
   ]
  },
  {
   "cell_type": "code",
   "execution_count": null,
   "metadata": {},
   "outputs": [],
   "source": [
    "#| default_exp experiments.merlion.future_timestamps"
   ]
  },
  {
   "cell_type": "code",
   "execution_count": null,
   "metadata": {},
   "outputs": [],
   "source": [
    "#| export\n",
    "import pandas as pd\n",
    "\n",
    "\n",
    "from merlion.utils import TimeSeries\n"
   ]
  },
  {
   "cell_type": "code",
   "execution_count": null,
   "metadata": {},
   "outputs": [],
   "source": [
    "#| export \n",
    "\n",
    "# class TimeStamp:\n",
    "#     def __init__(self):\n",
    "#         self.future= None"
   ]
  },
  {
   "cell_type": "code",
   "execution_count": null,
   "metadata": {},
   "outputs": [],
   "source": [
    "#| export\n",
    "def _prepare_future_stamps(\n",
    "    kpi: str,\n",
    "    start: str,\n",
    "    periods: int,\n",
    "    freq: str,\n",
    "):\n",
    "\n",
    "    if periods is None:\n",
    "        return TimeSeries.from_pd(pd.DataFrame({'date': []}))\n",
    "\n",
    "    dt = pd.date_range(\n",
    "        start=start,\n",
    "        periods=periods,\n",
    "        freq=freq,\n",
    "        inclusive=\"neither\",\n",
    "    )\n",
    "    dt.name = 'date'\n",
    "\n",
    "    df = pd.DataFrame(index=dt)\n",
    "    df[kpi] = 0\n",
    "    \n",
    "    return TimeSeries.from_pd(df)"
   ]
  },
  {
   "cell_type": "code",
   "execution_count": null,
   "metadata": {},
   "outputs": [],
   "source": [
    "dt = _prepare_future_stamps(\n",
    "    kpi='price',\n",
    "    start = '2020-01-31',\n",
    "    periods = 2,\n",
    "    freq='W-MON',\n",
    ")"
   ]
  },
  {
   "cell_type": "code",
   "execution_count": null,
   "metadata": {},
   "outputs": [
    {
     "data": {
      "text/plain": [
       "            price\n",
       "time             \n",
       "2020-02-03    0.0\n",
       "2020-02-10    0.0"
      ]
     },
     "execution_count": null,
     "metadata": {},
     "output_type": "execute_result"
    }
   ],
   "source": [
    "dt"
   ]
  },
  {
   "cell_type": "code",
   "execution_count": null,
   "metadata": {},
   "outputs": [],
   "source": [
    "#| export\n",
    "class Data:\n",
    "\n",
    "    def __init__(\n",
    "        self,\n",
    "        # futuristic_start: str = \"2011-01-31\",\n",
    "    ) -> None:\n",
    "\n",
    "        self.kpi = None\n",
    "        self.futuristic_start_date = None\n",
    "        self.periods = None\n",
    "        self.freq = None\n",
    "\n",
    "        self.future = None\n",
    "\n",
    "    def gen_futuristic_time_stamps(self):\n",
    "        self.future = _prepare_future_stamps(\n",
    "            start=self.futuristic_start_date,\n",
    "            kpi=self.kpi,\n",
    "            freq=self.freq,\n",
    "            periods=self.periods,\n",
    "        )\n",
    "\n",
    "        # self.time_stamps = TimeStamp"
   ]
  },
  {
   "cell_type": "code",
   "execution_count": null,
   "metadata": {},
   "outputs": [
    {
     "data": {
      "text/plain": [
       "            price\n",
       "time             \n",
       "2022-08-22    0.0\n",
       "2022-08-29    0.0\n",
       "2022-09-05    0.0\n",
       "2022-09-12    0.0"
      ]
     },
     "execution_count": null,
     "metadata": {},
     "output_type": "execute_result"
    }
   ],
   "source": [
    "data = Data()\n",
    "data.futuristic_start_date=\"2022-08-15\"\n",
    "data.kpi =\"price\"\n",
    "data.freq =\"W-MON\"\n",
    "data.periods = 5\n",
    "\n",
    "data.gen_futuristic_time_stamps()\n",
    "data.future"
   ]
  },
  {
   "cell_type": "code",
   "execution_count": null,
   "metadata": {},
   "outputs": [],
   "source": []
  }
 ],
 "metadata": {
  "kernelspec": {
   "display_name": "Python 3.8.6 ('base')",
   "language": "python",
   "name": "python3"
  }
 },
 "nbformat": 4,
 "nbformat_minor": 2
}
