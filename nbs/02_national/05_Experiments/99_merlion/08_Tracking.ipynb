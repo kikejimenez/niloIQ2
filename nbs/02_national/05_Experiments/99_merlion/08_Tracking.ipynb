{
 "cells": [
  {
   "cell_type": "raw",
   "metadata": {},
   "source": [
    "---\n",
    "{}\n",
    "\n",
    "---\n",
    "\n"
   ]
  },
  {
   "cell_type": "code",
   "execution_count": 2,
   "metadata": {},
   "outputs": [],
   "source": [
    "#| default_exp experiments.merlion.tracking"
   ]
  },
  {
   "cell_type": "code",
   "execution_count": 3,
   "metadata": {},
   "outputs": [],
   "source": [
    "#| export\n",
    "\n",
    "import os\n",
    "import warnings\n",
    "import sys\n",
    "import logging\n",
    "\n",
    "from urllib.parse import urlparse\n",
    "\n",
    "import pandas as pd\n",
    "import mlflow\n",
    "\n",
    "from national import tables\n",
    "from national.experiments.merlion.results import Results\n",
    "from national.data_preprocessing.date_features import Data"
   ]
  },
  {
   "cell_type": "code",
   "execution_count": 4,
   "metadata": {},
   "outputs": [],
   "source": [
    "#| export\n",
    "\n",
    "from ensurepip import version\n",
    "from genericpath import isfile\n",
    "\n",
    "\n",
    "class Tracking(Results):\n",
    "\n",
    "    def __init__(\n",
    "        self,\n",
    "        # df: pd.DataFrame,\n",
    "        kpi: str,\n",
    "        freq: str,\n",
    "        load_models: bool,\n",
    "        periods: int,\n",
    "        val_frac: float,\n",
    "        since_year: int,\n",
    "        state: str,\n",
    "        product: str,\n",
    "        **args,\n",
    "    ):\n",
    "\n",
    "        self.query = \"Year>={} & product=='{}' & state=='{}'\".format(\n",
    "            since_year,\n",
    "            product,\n",
    "            state,\n",
    "        )\n",
    "        super().__init__(\n",
    "            df=Data().df.query(self.query),\n",
    "            kpi=kpi,\n",
    "            freq=freq,\n",
    "            load_models=load_models,\n",
    "            periods=periods,\n",
    "            val_frac=val_frac,\n",
    "            # query=query,\n",
    "            **args,\n",
    "        )\n",
    "\n",
    "        logging.basicConfig(level=logging.WARN)\n",
    "        logger = logging.getLogger(__name__)\n",
    "\n",
    "        self.local_uri = 'file:///workspaces/niloIQ/data/NationalPrices/mlruns'\n",
    "\n",
    "        # mlflow.set_experiment_tag(\"release.version\", \"2.2.0\")\n",
    "        mlflow.set_tracking_uri(uri=self.local_uri)\n",
    "\n",
    "        self.exp_name = 'National'\n",
    "\n",
    "        try:\n",
    "            exp = mlflow.get_experiment_by_name(name=self.exp_name)\n",
    "            experiment_id = exp.experiment_id\n",
    "        except:\n",
    "\n",
    "            experiment_id = mlflow.create_experiment(\n",
    "                name=self.exp_name,\n",
    "                artifact_location=self.local_uri,\n",
    "            )\n",
    "\n",
    "        _metrics = self.metrics()\n",
    "        _preds = self.get_futures_dict()\n",
    "\n",
    "        for _dataset, model in _metrics.index.values:\n",
    "            with mlflow.start_run(\n",
    "                    experiment_id=experiment_id,\n",
    "                    run_name='Merlion',\n",
    "            ):\n",
    "\n",
    "                warnings.filterwarnings(\"ignore\")\n",
    "            \n",
    "\n",
    "\n",
    "                mlflow.log_param(\"kpi\", self.kpi)\n",
    "                mlflow.log_param(\"freq\", self.freq)\n",
    "                mlflow.log_param(\"model\", model)\n",
    "                mlflow.log_param(\"product\", product)\n",
    "                mlflow.log_param(\"since_year\", since_year)\n",
    "                mlflow.log_param(\"state\", state)\n",
    "                mlflow.log_param(\"pred_start_date\",self.data.futuristic_start_date )\n",
    "                mlflow.log_param(\"predictions\", str(_preds[model]))\n",
    "\n",
    "                _query = _metrics.query(\n",
    "                    f\"Dataset=='{_dataset}' & Model=='{model}'\")\n",
    "                mlflow.log_metric(f\"sMAPE\", _query['sMAPE'].values[0])\n",
    "                mlflow.log_metric(f\"rRSME\", _query['rRSME'].values[0])\n",
    "                mlflow.log_metric(f\"RMSPE\", _query['RMSPE'].values[0])\n",
    "\n",
    "        runs = mlflow.search_runs(experiment_names=[self.exp_name])\n",
    "\n",
    "        _file =tables.granos_actual.version(\"merlion\")\n",
    "\n",
    "        if os.path.isfile(_file):\n",
    "            runs.to_csv(_file,mode='a',header=False,index=False)\n",
    "        else:\n",
    "            runs.to_csv(_file,mode='w',index=False)"
   ]
  },
  {
   "cell_type": "code",
   "execution_count": 5,
   "metadata": {},
   "outputs": [
    {
     "name": "stdout",
     "output_type": "stream",
     "text": [
      "Arima\n",
      "Prophet\n",
      "MSES\n",
      "Start forecast\n"
     ]
    }
   ],
   "source": [
    "\n",
    "tracking = Tracking(\n",
    "    # df=nal_df,\n",
    "    kpi=\"price\",\n",
    "    freq=\"W-MON\",\n",
    "    load_models=False,\n",
    "    periods=3,\n",
    "    since_year= 2017,\n",
    "    product=\"Haba\",\n",
    "    state=\"Sinaloa\",\n",
    "    val_frac=0,\n",
    ")"
   ]
  },
  {
   "cell_type": "code",
   "execution_count": 6,
   "metadata": {},
   "outputs": [],
   "source": [
    "#mlflow ui --backend-store-uri file:///workspaces/niloIQ/data/NationalPrices/mlruns"
   ]
  }
 ],
 "metadata": {
  "kernelspec": {
   "display_name": "Python 3.8.6 ('base')",
   "language": "python",
   "name": "python3"
  },
  "language_info": {
   "codemirror_mode": {
    "name": "ipython",
    "version": 3
   },
   "file_extension": ".py",
   "mimetype": "text/x-python",
   "name": "python",
   "nbconvert_exporter": "python",
   "pygments_lexer": "ipython3",
   "version": "3.8.6"
  },
  "vscode": {
   "interpreter": {
    "hash": "d4d1e4263499bec80672ea0156c357c1ee493ec2b1c70f0acce89fc37c4a6abe"
   }
  }
 },
 "nbformat": 4,
 "nbformat_minor": 2
}
