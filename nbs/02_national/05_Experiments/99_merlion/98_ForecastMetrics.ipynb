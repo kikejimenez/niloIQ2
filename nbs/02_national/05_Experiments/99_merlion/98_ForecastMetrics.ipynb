{
 "cells": [
  {
   "cell_type": "raw",
   "metadata": {},
   "source": [
    "---\n",
    "{}\n",
    "\n",
    "---\n",
    "\n"
   ]
  },
  {
   "cell_type": "code",
   "execution_count": null,
   "id": "lined-grill",
   "metadata": {},
   "outputs": [],
   "source": [
    "#| default_exp experiments.merlion.metrics"
   ]
  },
  {
   "cell_type": "code",
   "execution_count": null,
   "id": "lucky-steam",
   "metadata": {},
   "outputs": [],
   "source": [
    "#| export\n",
    "import sys\n",
    "import logging\n",
    "import numpy as np\n",
    "\n",
    "from merlion.evaluate.forecast import ForecastScoreAccumulator as MerlionForecastScoreAccumulator"
   ]
  },
  {
   "cell_type": "code",
   "execution_count": null,
   "id": "attractive-sauce",
   "metadata": {},
   "outputs": [],
   "source": [
    "#| export\n",
    "\n",
    "logging.disable(sys.maxsize)"
   ]
  },
  {
   "cell_type": "code",
   "execution_count": null,
   "id": "intermediate-surge",
   "metadata": {},
   "outputs": [],
   "source": [
    "#| export\n",
    "def _mean_squared_error(\n",
    "    *,\n",
    "    ts: np.array,\n",
    "    f: np.array,\n",
    ") -> float:\n",
    "    \"\"\"\n",
    "    Computes the mean squared error:\n",
    "\n",
    "    $$(1/n)\\sum^{n}_{i} | ts[i] - f[i]|**2, n = len(ts) = len(f)$$\n",
    "\n",
    "    .Ignores nan values in times-series or the forecast.\n",
    "\n",
    "    ------\n",
    "    Parameters\n",
    "    ------\n",
    "\n",
    "    ts : np.array with the time-series\n",
    "    f :  np.array with the forecast\n",
    "\n",
    "    -------\n",
    "    Returns\n",
    "    -------\n",
    "    \n",
    "    \"\"\"\n",
    "    d = (ts - f)**2\n",
    "    w = ~np.isnan(d)\n",
    "    n = len(d[w])\n",
    "\n",
    "    return np.divide(\n",
    "        np.sum(d, where=w),\n",
    "        n,\n",
    "        where=n > 0,\n",
    "    )"
   ]
  },
  {
   "cell_type": "code",
   "execution_count": null,
   "id": "swedish-vietnam",
   "metadata": {},
   "outputs": [],
   "source": [
    "#| export\n",
    "def _relative_root_mean_square_error(\n",
    "    *,\n",
    "    ts: np.array,\n",
    "    f: np.array,\n",
    ") -> float:\n",
    "    \"\"\"\n",
    "    Computes the root mean square error:\n",
    "\n",
    "    $$ \\sqrt((1/n)\\sum^{n}_{i}(ts[i] - f[i])**2) / ((1/n) \\sum^{n}_{i} ts[i] ) ,  n = len(ts) = len(f)$$\n",
    "\n",
    "    .Ignores nan values in times-series or the forecast.\n",
    "\n",
    "    ------\n",
    "    Parameters\n",
    "    ------\n",
    "\n",
    "    ts : np.array with the time-series\n",
    "    f :  np.array with the forecast\n",
    "\n",
    "    -------\n",
    "    Returns\n",
    "    -------\n",
    "    \n",
    "    \"\"\"\n",
    "\n",
    "    mean = np.mean(ts)\n",
    "    return np.divide(np.sqrt(_mean_squared_error(ts=ts, f=f)),mean, where=mean!=0)"
   ]
  },
  {
   "cell_type": "code",
   "execution_count": null,
   "id": "static-rachel",
   "metadata": {},
   "outputs": [],
   "source": [
    "ts, f = np.array(\n",
    "    [1, 2, 3],\n",
    "    dtype=float,\n",
    "), np.array(\n",
    "    [.5, 2.5, 2],\n",
    "    dtype=float,\n",
    ")\n",
    "assert _relative_root_mean_square_error(ts=ts, f=f) == np.sqrt(\n",
    "    np.divide((1 - .5)**2 + (2 - 2.5)**2 + (3 - 2)**2, 3)) / np.mean(ts)"
   ]
  },
  {
   "cell_type": "code",
   "execution_count": null,
   "id": "round-ukraine",
   "metadata": {},
   "outputs": [],
   "source": [
    "#| export\n",
    "def _root_mean_square_percentage_error(\n",
    "    *,\n",
    "    ts: np.array,\n",
    "    f: np.array,\n",
    ") -> float:\n",
    "    \"\"\"\n",
    "    Computes the mean absolute percentage error:\n",
    "\n",
    "    $$ \\sqrt{ (1/n) \\sum  ( (ts[i] - f[i])  /ts[i] ) ^ 2 },  n* = len(ts) = len(f)$$\n",
    "\n",
    "    .Ignores nan values and division by zero.\n",
    "    n is n* minus the ignored values\n",
    "\n",
    "    ------\n",
    "    Parameters\n",
    "    ------\n",
    "\n",
    "    ts : np.array with the time-series\n",
    "    f :  np.array with the forecast\n",
    "\n",
    "    -------\n",
    "    Returns\n",
    "    -------\n",
    "    \n",
    "    \"\"\"\n",
    "\n",
    "    pe = np.divide(ts - f, ts, where=ts != 0)[ts != 0]\n",
    "    \n",
    "    w = ~np.isnan(pe)\n",
    "\n",
    "    n = len(pe[w])\n",
    "\n",
    "    return np.sqrt(np.divide(\n",
    "        np.sum(np.square(pe, where=w)),\n",
    "        n,\n",
    "        where=n > 0,\n",
    "    ))"
   ]
  },
  {
   "cell_type": "code",
   "execution_count": null,
   "id": "adult-camera",
   "metadata": {},
   "outputs": [],
   "source": [
    "ts, f = np.array([1, 1]), np.array([2,3])\n",
    "assert _root_mean_square_percentage_error(ts=ts, f=f) == np.sqrt( np.divide( 2**2 +1, 2))"
   ]
  },
  {
   "cell_type": "code",
   "execution_count": null,
   "id": "clean-passing",
   "metadata": {},
   "outputs": [],
   "source": [
    "ts, f = np.array([2, 1],dtype=float), np.array([3.,3],dtype=float)\n",
    "assert _root_mean_square_percentage_error(ts=ts, f=f) == np.sqrt( np.divide( (1./2.)**2 +2**2, 2))"
   ]
  },
  {
   "cell_type": "code",
   "execution_count": null,
   "id": "automatic-creature",
   "metadata": {},
   "outputs": [],
   "source": [
    "ts, f = np.array([1, 2, 3]), np.array([.5, 2.5, 2])\n",
    "assert _root_mean_square_percentage_error(ts=ts, f=f) == np.sqrt(np.divide(\n",
    "    (1 - .5)**2 + ((2 - 2.5) / 2)**2 + ((3 - 2) / 3.)**2, 3))"
   ]
  },
  {
   "cell_type": "code",
   "execution_count": null,
   "id": "improving-lafayette",
   "metadata": {},
   "outputs": [],
   "source": [
    "ts, f = np.array(\n",
    "    [1, 2, 3, 0],\n",
    "    dtype=float,\n",
    "), np.array(\n",
    "    [.5, 2.5, 2, 5],\n",
    "    dtype=float,\n",
    ")\n",
    "assert _root_mean_square_percentage_error(ts=ts, f=f) == np.sqrt(\n",
    "    np.divide((1 - .5)**2 + ((2 - 2.5) / 2)**2 + ((3 - 2) / 3.)**2, 3))"
   ]
  },
  {
   "cell_type": "code",
   "execution_count": null,
   "id": "white-biodiversity",
   "metadata": {},
   "outputs": [],
   "source": [
    "#| export \n",
    "class ForecastScoreAccumulator(MerlionForecastScoreAccumulator):\n",
    "    \n",
    "    def rmspe(self):\n",
    "        \"\"\"\n",
    "        Root Mean Square Percentage Error (RMSPE)\n",
    "\n",
    "        For ground truth time series $ts$ and predicted time series $f$\n",
    "        of length $n*$, it is computed as\n",
    "\n",
    "        $$ \\sqrt{ (1/n) \\sum  ( (ts[i] - f[i])  / ts[i] ) ^ 2 } $$\n",
    "\n",
    "        Ignores nan values and division by zero.\n",
    "        n is n* minus the ignored values\n",
    "        \"\"\"\n",
    "        self.check_before_eval()\n",
    "        predict_values = self.predict.univariates[\n",
    "            self.predict.names[0]].np_values\n",
    "        ground_truth_values = self.ground_truth.univariates[\n",
    "            self.ground_truth.names[0]].np_values\n",
    "        \n",
    "\n",
    "        return _root_mean_square_percentage_error(\n",
    "            ts=ground_truth_values,\n",
    "            f=predict_values,\n",
    "        )\n",
    "    \n",
    "    def rrmse(self):\n",
    "        \"\"\"\n",
    "        Relative Root Mean Square Error (RRMSE)\n",
    "\n",
    "        For ground truth time series $ts$ and predicted time series $f$\n",
    "        of length $n*$, it is computed as\n",
    "\n",
    "        $$  RMSE / Mean $$\n",
    "        \n",
    "        where \n",
    "        $$ RMSE =  \\sqrt((1/n)\\sum^{n}_{i}(ts[i] - f[i])**2) $$ \n",
    "        and\n",
    "        $$ ((1/n) \\sum^{n}_{i} ts[i] ) $$\n",
    "        \n",
    "\n",
    "        Ignores nan values and division by zero.\n",
    "        n is n* minus the ignored values\n",
    "        \"\"\"\n",
    "        self.check_before_eval()\n",
    "        predict_values = self.predict.univariates[\n",
    "            self.predict.names[0]].np_values\n",
    "        ground_truth_values = self.ground_truth.univariates[\n",
    "            self.ground_truth.names[0]].np_values\n",
    "        \n",
    "\n",
    "        return _relative_root_mean_square_error(\n",
    "            ts=ground_truth_values,\n",
    "            f=predict_values,\n",
    "        )"
   ]
  },
  {
   "cell_type": "code",
   "execution_count": null,
   "id": "decent-sapphire",
   "metadata": {},
   "outputs": [],
   "source": [
    "from national.experiments.merlion.inference import Inference as MerlionInference"
   ]
  },
  {
   "cell_type": "code",
   "execution_count": null,
   "id": "pregnant-policy",
   "metadata": {},
   "outputs": [],
   "source": [
    "mi = MerlionInference(\n",
    "    kpi=\"Sales\",\n",
    "    freq=\"W\",\n",
    ")"
   ]
  },
  {
   "cell_type": "code",
   "execution_count": null,
   "id": "confirmed-group",
   "metadata": {},
   "outputs": [],
   "source": [
    "\n",
    "fsa = ForecastScoreAccumulator(\n",
    "    ground_truth=mi.data.sub_test,\n",
    "    predict=mi.models.arima.forecast.inference,\n",
    ")"
   ]
  },
  {
   "cell_type": "code",
   "execution_count": null,
   "id": "legitimate-quebec",
   "metadata": {},
   "outputs": [
    {
     "data": {
      "text/plain": [
       "0.15654322483622773"
      ]
     },
     "execution_count": null,
     "metadata": {},
     "output_type": "execute_result"
    }
   ],
   "source": [
    "fsa.rmspe()"
   ]
  },
  {
   "cell_type": "code",
   "execution_count": null,
   "id": "coated-tonight",
   "metadata": {},
   "outputs": [
    {
     "data": {
      "text/plain": [
       "0.1607804345030961"
      ]
     },
     "execution_count": null,
     "metadata": {},
     "output_type": "execute_result"
    }
   ],
   "source": [
    "fsa.rrmse()"
   ]
  }
 ],
 "metadata": {
  "kernelspec": {
   "display_name": "Python 3",
   "language": "python",
   "name": "python3"
  }
 },
 "nbformat": 4,
 "nbformat_minor": 5
}
