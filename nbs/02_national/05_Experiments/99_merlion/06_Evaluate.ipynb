{
 "cells": [
  {
   "cell_type": "raw",
   "metadata": {},
   "source": [
    "---\n",
    "{}\n",
    "\n",
    "---\n",
    "\n"
   ]
  },
  {
   "cell_type": "code",
   "execution_count": null,
   "id": "unauthorized-pizza",
   "metadata": {},
   "outputs": [],
   "source": [
    "#| default_exp experiments.merlion.evaluate"
   ]
  },
  {
   "cell_type": "code",
   "execution_count": null,
   "id": "approved-serial",
   "metadata": {},
   "outputs": [],
   "source": [
    "#| export\n",
    "\n",
    "from typing import Optional,List\n",
    "import logging\n",
    "import sys\n",
    "import numpy as np\n",
    "import pandas as pd\n",
    "import plotly.graph_objects as go\n",
    "from national.experiments.merlion.model import Model\n",
    "from national.experiments.merlion.inference import Inference as  MerlionInference\n",
    "from national.experiments.merlion import model\n",
    "from national.experiments.merlion import data_splits \n",
    "from national.experiments.merlion.metrics import ForecastScoreAccumulator\n",
    "from national.util.constants import PERCENTAGE_CONFIDENCE_INTERVAL"
   ]
  },
  {
   "cell_type": "code",
   "execution_count": null,
   "id": "acute-shield",
   "metadata": {},
   "outputs": [],
   "source": [
    "#| export\n",
    "\n",
    "logging.disable(sys.maxsize)"
   ]
  },
  {
   "cell_type": "code",
   "execution_count": null,
   "id": "improving-participation",
   "metadata": {},
   "outputs": [],
   "source": [
    "#| export\n",
    "\n",
    "\n",
    "class Evaluation(MerlionInference):\n",
    "\n",
    "    def __init__(\n",
    "        self,\n",
    "        kpi: str,\n",
    "        df: pd.DataFrame,\n",
    "        freq: str,\n",
    "        val_frac: float = 0.15,\n",
    "        load_models: bool = False,\n",
    "        **args,\n",
    "    ):\n",
    "        super().__init__(\n",
    "            kpi=kpi,\n",
    "            df=df,\n",
    "            freq=freq,\n",
    "            val_frac=val_frac,\n",
    "            load_models=load_models,\n",
    "            **args,\n",
    "        )\n",
    "\n",
    "        _models = [\n",
    "            self.models.prophet,\n",
    "            self.models.arima,\n",
    "            self.models.mses,\n",
    "            # self.models.ensemble,\n",
    "            # self.models.partial_ensemble,\n",
    "        ]\n",
    "\n",
    "        if self.include_selector:\n",
    "            _models = _models + [self.models.selector]\n",
    "\n",
    "        _model: Model\n",
    "        for _model in _models:\n",
    "\n",
    "            if not _model.load_model:\n",
    "                _model.evaluation.train = ForecastScoreAccumulator(\n",
    "                    ground_truth=self.data.train,\n",
    "                    predict=_model.forecast.train,\n",
    "                )\n",
    "\n",
    "        if len(self.data.val) > 0:\n",
    "\n",
    "            for _model in _models:\n",
    "\n",
    "                _model.evaluation.val = ForecastScoreAccumulator(\n",
    "                    ground_truth=self.data.val,\n",
    "                    predict=_model.forecast.val,\n",
    "                )\n"
   ]
  },
  {
   "cell_type": "code",
   "execution_count": null,
   "id": "severe-wound",
   "metadata": {},
   "outputs": [
    {
     "name": "stdout",
     "output_type": "stream",
     "text": [
      "Arima\n",
      "Prophet\n",
      "MSES\n",
      "Start forecast\n"
     ]
    }
   ],
   "source": [
    "from national.data_preprocessing.date_features import Data\n",
    "\n",
    "query = \"product=='Haba'\"\n",
    "val_frac = 0.15\n",
    "nal_df = Data().df.query(query)\n",
    "ev = Evaluation(\n",
    "    df=nal_df,\n",
    "    kpi=\"price\",\n",
    "    freq=\"M\",\n",
    "    periods=3,\n",
    "    load_models=False,\n",
    "    val_frac=val_frac,\n",
    ")"
   ]
  },
  {
   "cell_type": "code",
   "execution_count": null,
   "id": "protective-processing",
   "metadata": {},
   "outputs": [
    {
     "name": "stdout",
     "output_type": "stream",
     "text": [
      "Arima\n",
      "Prophet\n",
      "MSES\n",
      "Start forecast\n"
     ]
    }
   ],
   "source": [
    "ev = Evaluation(\n",
    "    df=nal_df,\n",
    "    kpi=\"price\",\n",
    "    freq=\"2W\",\n",
    "    load_models=False,\n",
    "    val_frac=val_frac,\n",
    ")"
   ]
  },
  {
   "cell_type": "code",
   "execution_count": null,
   "id": "5329b2c2",
   "metadata": {},
   "outputs": [],
   "source": []
  }
 ],
 "metadata": {
  "kernelspec": {
   "display_name": "Python 3.8.6 ('base')",
   "language": "python",
   "name": "python3"
  }
 },
 "nbformat": 4,
 "nbformat_minor": 5
}
