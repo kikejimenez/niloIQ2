{
 "cells": [
  {
   "cell_type": "raw",
   "metadata": {},
   "source": [
    "---\n",
    "{}\n",
    "\n",
    "---\n",
    "\n"
   ]
  },
  {
   "cell_type": "code",
   "execution_count": null,
   "metadata": {},
   "outputs": [],
   "source": [
    "#| default_exp experiments.darts.fitting"
   ]
  },
  {
   "cell_type": "code",
   "execution_count": null,
   "metadata": {},
   "outputs": [],
   "source": [
    "#| export\n",
    "\n",
    "import pandas as pd\n",
    "\n",
    "from national.experiments.darts import model as darts_model\n",
    "from national.experiments.darts import train_validation_test "
   ]
  },
  {
   "cell_type": "code",
   "execution_count": null,
   "metadata": {},
   "outputs": [],
   "source": [
    "#| export \n",
    "\n",
    "class Fit:\n",
    "\n",
    "    def __init__(self,\n",
    "    df: pd.DataFrame, \n",
    "    data_args: dict = {},\n",
    "    models_args: dict = {},\n",
    "    ) -> None:\n",
    "\n",
    "\n",
    "        self.data = train_validation_test.Data(\n",
    "              df=df, \n",
    "              **data_args,\n",
    "            )\n",
    "\n",
    "        self.models = darts_model.Models(**models_args)\n",
    "\n",
    "\n",
    "        _models = [\n",
    "            self.models.n_beats_model\n",
    "        ]\n",
    "\n",
    "        for _model in _models:\n",
    "            _model.fit(self.data.train,verbose=True)\n",
    "\n",
    "    "
   ]
  },
  {
   "cell_type": "code",
   "execution_count": null,
   "metadata": {},
   "outputs": [
    {
     "name": "stderr",
     "output_type": "stream",
     "text": [
      "[2021-12-30 17:48:02,079] INFO | darts.models.forecasting.torch_forecasting_model | Train dataset contains 718 samples.\n",
      "[2021-12-30 17:48:02,079] INFO | darts.models.forecasting.torch_forecasting_model | Train dataset contains 718 samples.\n",
      "[2021-12-30 17:48:02,142] INFO | darts.models.forecasting.torch_forecasting_model | Time series values are 64-bits; casting model to float64.\n",
      "[2021-12-30 17:48:02,142] INFO | darts.models.forecasting.torch_forecasting_model | Time series values are 64-bits; casting model to float64.\n"
     ]
    },
    {
     "data": {
      "application/vnd.jupyter.widget-view+json": {
       "model_id": "40b6248a30b345229d9dbf504e592f71",
       "version_major": 2,
       "version_minor": 0
      },
      "text/plain": [
       "  0%|          | 0/100 [00:00<?, ?it/s]"
      ]
     },
     "metadata": {},
     "output_type": "display_data"
    },
    {
     "name": "stdout",
     "output_type": "stream",
     "text": [
      "Training loss: 0.0013\n"
     ]
    }
   ],
   "source": [
    "from national.data_preprocessing.merge import Data\n",
    "from national.experiments.darts import fitting\n",
    "\n",
    "fit = Fit(df=Data().all)"
   ]
  },
  {
   "cell_type": "code",
   "execution_count": null,
   "metadata": {},
   "outputs": [
    {
     "data": {
      "text/plain": [
       "189"
      ]
     },
     "execution_count": null,
     "metadata": {},
     "output_type": "execute_result"
    }
   ],
   "source": [
    "len(fit.data.val)"
   ]
  },
  {
   "cell_type": "code",
   "execution_count": null,
   "metadata": {},
   "outputs": [],
   "source": []
  }
 ],
 "metadata": {
  "kernelspec": {
   "display_name": "Python 3.8.6 64-bit ('base': conda)",
   "language": "python",
   "name": "python3"
  }
 },
 "nbformat": 4,
 "nbformat_minor": 2
}
