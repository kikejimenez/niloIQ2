{
 "cells": [
  {
   "cell_type": "raw",
   "metadata": {},
   "source": [
    "---\n",
    "{}\n",
    "\n",
    "---\n",
    "\n"
   ]
  },
  {
   "cell_type": "code",
   "execution_count": null,
   "id": "unauthorized-pizza",
   "metadata": {},
   "outputs": [],
   "source": [
    "#| default_exp experiments.darts.evaluate"
   ]
  },
  {
   "cell_type": "code",
   "execution_count": null,
   "id": "approved-serial",
   "metadata": {},
   "outputs": [],
   "source": [
    "#| export\n",
    "\n",
    "from typing import Optional\n",
    "import logging\n",
    "import sys\n",
    "\n",
    "\n",
    "from national.experiments.darts import metrics\n",
    "from national.experiments.darts.predict import Predict,Predictions\n",
    "from national.util.constants import PERCENTAGE_CONFIDENCE_INTERVAL"
   ]
  },
  {
   "cell_type": "code",
   "execution_count": null,
   "id": "acute-shield",
   "metadata": {},
   "outputs": [],
   "source": [
    "#| export\n",
    "\n",
    "logging.disable(sys.maxsize)"
   ]
  },
  {
   "cell_type": "code",
   "execution_count": null,
   "id": "b75b202c",
   "metadata": {},
   "outputs": [],
   "source": [
    "#| export \n",
    "class Evaluation:\n",
    "    def __init__(\n",
    "        self,\n",
    "        metric,\n",
    "        actual_series,\n",
    "        predictions: Predictions,\n",
    "    ) -> None:\n",
    "    \n",
    "        self.n_beats = metric(actual_series,predictions.n_beats)"
   ]
  },
  {
   "cell_type": "code",
   "execution_count": null,
   "id": "improving-participation",
   "metadata": {},
   "outputs": [],
   "source": [
    "#| export\n",
    "\n",
    "\n",
    "class Evaluate:\n",
    "    def __init__(\n",
    "        self,\n",
    "        preds: Optional[Predict] = None,\n",
    "    ):\n",
    "        self.mape = self.all_models_one_metric(metrics.darts_metrics.mape)\n",
    "\n",
    "        self.rmspe = self.all_models_one_metric(metric=metrics.rmspe)\n",
    "\n",
    "        self.rrmse = self.all_models_one_metric(metrics.rrmse)\n",
    "\n",
    "    def all_models_one_metric(\n",
    "        self,\n",
    "        metric,\n",
    "    ) -> float:\n",
    "        return Evaluation(\n",
    "            metric=metric,\n",
    "            actual_series=preds.data.val,\n",
    "            predictions=preds.predictions,\n",
    "        )"
   ]
  },
  {
   "cell_type": "code",
   "execution_count": null,
   "id": "manufactured-marble",
   "metadata": {},
   "outputs": [
    {
     "data": {
      "application/vnd.jupyter.widget-view+json": {
       "model_id": "3e555a9219634332b6807c320f7e86c9",
       "version_major": 2,
       "version_minor": 0
      },
      "text/plain": [
       "  0%|          | 0/100 [00:00<?, ?it/s]"
      ]
     },
     "metadata": {},
     "output_type": "display_data"
    },
    {
     "name": "stdout",
     "output_type": "stream",
     "text": [
      "Training loss: 0.0013\n"
     ]
    }
   ],
   "source": [
    "from national.data_preprocessing.merge import Data\n",
    "from national.experiments.darts.predict import Predict\n",
    "preds = Predict(\n",
    "    df=Data().all,\n",
    "    data_args=dict(\n",
    "        train_frac=0.8,\n",
    "        freq='D' ,\n",
    "    ),)"
   ]
  },
  {
   "cell_type": "code",
   "execution_count": null,
   "id": "14235bdb",
   "metadata": {},
   "outputs": [],
   "source": [
    "evaluation = Evaluate(\n",
    "    preds\n",
    ")"
   ]
  },
  {
   "cell_type": "code",
   "execution_count": null,
   "id": "6fdcf781",
   "metadata": {},
   "outputs": [
    {
     "data": {
      "text/plain": [
       "1.1205839844998378"
      ]
     },
     "execution_count": null,
     "metadata": {},
     "output_type": "execute_result"
    }
   ],
   "source": [
    "evaluation.rmspe.n_beats"
   ]
  },
  {
   "cell_type": "code",
   "execution_count": null,
   "id": "7d355218",
   "metadata": {},
   "outputs": [],
   "source": []
  }
 ],
 "metadata": {
  "kernelspec": {
   "display_name": "Python 3",
   "language": "python",
   "name": "python3"
  }
 },
 "nbformat": 4,
 "nbformat_minor": 5
}
