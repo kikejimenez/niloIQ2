{
 "cells": [
  {
   "cell_type": "raw",
   "metadata": {},
   "source": [
    "---\n",
    "{}\n",
    "\n",
    "---\n",
    "\n"
   ]
  },
  {
   "cell_type": "code",
   "execution_count": null,
   "id": "gothic-album",
   "metadata": {},
   "outputs": [],
   "source": [
    "#| default_exp experiments.darts.model"
   ]
  },
  {
   "cell_type": "code",
   "execution_count": null,
   "id": "incoming-monroe",
   "metadata": {},
   "outputs": [],
   "source": [
    "#| export\n",
    "\n",
    "from typing import Optional\n",
    "\n",
    "from darts.models import (\n",
    "    NaiveSeasonal,\n",
    "    NaiveDrift,\n",
    "    Prophet,\n",
    "    ExponentialSmoothing,\n",
    "    ARIMA,\n",
    "    AutoARIMA,\n",
    "    RegressionEnsembleModel,\n",
    "    RegressionModel,\n",
    "    Theta,\n",
    "    FFT,\n",
    ")\n",
    "\n",
    "from darts.models import (\n",
    "    RNNModel,\n",
    "    TCNModel,\n",
    "    TransformerModel,\n",
    "    NBEATSModel,\n",
    "    BlockRNNModel,\n",
    ")\n",
    "\n",
    "from national.util import constants\n",
    "\n",
    "from IPython.display import display, Markdown"
   ]
  },
  {
   "cell_type": "markdown",
   "id": "american-person",
   "metadata": {},
   "source": []
  },
  {
   "cell_type": "code",
   "execution_count": null,
   "id": "published-florence",
   "metadata": {},
   "outputs": [],
   "source": [
    "#| export\n",
    "DartsModel: type = type(Prophet)\n",
    "#MerlionConfig: type = type(ArimaConfig)"
   ]
  },
  {
   "cell_type": "code",
   "execution_count": null,
   "id": "american-orange",
   "metadata": {},
   "outputs": [],
   "source": [
    "#| export\n",
    "\n",
    "\n",
    "class Evaluation:\n",
    "\n",
    "    def __init_(self):\n",
    "        ...\n",
    "\n",
    "\n",
    "class Results:\n",
    "\n",
    "    def __init__(self):\n",
    "        ..."
   ]
  },
  {
   "cell_type": "code",
   "execution_count": null,
   "id": "improved-seating",
   "metadata": {},
   "outputs": [],
   "source": [
    "#| export\n",
    "\n",
    "\n",
    "class Model:\n",
    "    \"\"\"All models are initialized using the syntax ModelClass(config),\n",
    "where config is a model-specific configuration object.\n",
    "This is where you specify any algorithm-specific hyperparameters,\n",
    "as well as any data pre-processing transforms.\n",
    "    \"\"\"\n",
    "\n",
    "    def __init__(\n",
    "        self,\n",
    "        model,\n",
    "        **args,\n",
    "    ):\n",
    "        self.params: dict = None\n",
    "        self.model: DartsModel = None\n",
    "     "
   ]
  },
  {
   "cell_type": "code",
   "execution_count": null,
   "id": "younger-pillow",
   "metadata": {},
   "outputs": [],
   "source": [
    "#| export\n",
    "\n",
    "\n",
    "class Models:\n",
    "    \"\"\"\n",
    "\"\"\"\n",
    "\n",
    "\n",
    "    \n",
    "    n_beat_default_args = dict(\n",
    "            input_chunk_length=24,\n",
    "            output_chunk_length=12,\n",
    "            n_epochs=100,\n",
    "            random_state=0,\n",
    "        )\n",
    "\n",
    "    def __init__(self,\n",
    "     n_beat_args: dict = n_beat_default_args,\n",
    "     ):\n",
    "        \n",
    "\n",
    "        self.n_beats_model = NBEATSModel(**n_beat_args)\n",
    "        "
   ]
  },
  {
   "cell_type": "code",
   "execution_count": null,
   "id": "identical-rogers",
   "metadata": {},
   "outputs": [],
   "source": [
    "from national.experiments.darts import model\n",
    "models =model.Models()"
   ]
  },
  {
   "cell_type": "markdown",
   "id": "functioning-vegetation",
   "metadata": {},
   "source": [
    "##%% export\n",
    "\n",
    "The models considered are ARIMA, Prophet and SMES. Also an ensemble of these three models has been considered"
   ]
  },
  {
   "cell_type": "code",
   "execution_count": null,
   "id": "apart-afternoon",
   "metadata": {},
   "outputs": [
    {
     "data": {
      "text/plain": [
       "<darts.models.forecasting.nbeats.NBEATSModel at 0x7f1cdc68de80>"
      ]
     },
     "execution_count": null,
     "metadata": {},
     "output_type": "execute_result"
    }
   ],
   "source": [
    "models.n_beats_model"
   ]
  },
  {
   "cell_type": "code",
   "execution_count": null,
   "id": "d55e6f9a",
   "metadata": {},
   "outputs": [],
   "source": []
  }
 ],
 "metadata": {
  "kernelspec": {
   "display_name": "Python 3",
   "language": "python",
   "name": "python3"
  }
 },
 "nbformat": 4,
 "nbformat_minor": 5
}
