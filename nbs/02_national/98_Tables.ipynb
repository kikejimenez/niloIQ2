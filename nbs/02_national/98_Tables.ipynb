{
 "cells": [
  {
   "cell_type": "markdown",
   "metadata": {},
   "source": [
    "# Table names\n",
    "> Generate version names for the db tables"
   ]
  },
  {
   "cell_type": "code",
   "execution_count": null,
   "metadata": {
    "vscode": {
     "languageId": "python"
    }
   },
   "outputs": [],
   "source": [
    "#| default_exp national.tables"
   ]
  },
  {
   "cell_type": "code",
   "execution_count": null,
   "metadata": {
    "vscode": {
     "languageId": "python"
    }
   },
   "outputs": [],
   "source": [
    "#| export \n",
    "from pathlib import Path\n",
    "import os\n",
    "from os import path,mkdir\n",
    "\n",
    "ROOT_DIRECTORY = '/workspaces/niloIQ2'\n",
    "\n",
    "AMS_PRECIOS_INTERNACIONALES_PUNTO_DE_EMBARQUE_ACTUAL = os.getenv(\n",
    "    'AMS_PRECIOS_INTERNACIONALES_PUNTO_DE_EMBARQUE_ACTUAL'\n",
    ")\n",
    "AMS_PRECIOS_INTERNACIONALES_PUNTO_DE_EMBARQUE_HISTORICA = os.getenv(\n",
    "    'AMS_PRECIOS_INTERNACIONALES_PUNTO_DE_EMBARQUE_HISTORICA'\n",
    ")\n",
    "SNIIM_GRANOS_BASICOS_ACTUAL = os.getenv('SNIIM_GRANOS_BASICOS_ACTUAL')\n",
    "SNIIM_GRANOS_BASICOS_HISTORICA = os.getenv('SNIIM_GRANOS_BASICOS_HISTORICA')\n",
    "\n",
    "\n",
    "class Table:\n",
    "    def __init__(\n",
    "        self,\n",
    "        name: str,\n",
    "        parent_dir: str = '',\n",
    "    ) -> None:\n",
    "        self.table_name = name\n",
    "        self.parent_dir = parent_dir\n",
    "\n",
    "    def version(\n",
    "        self,\n",
    "        version_name: str,\n",
    "    ) -> str:\n",
    "\n",
    "        \n",
    "        _dir = path.join(ROOT_DIRECTORY, self.parent_dir, version_name)\n",
    "        if not path.isdir(_dir):\n",
    "            mkdir(_dir)\n",
    "        return path.join(_dir, self.table_name)\n",
    "\n",
    "\n",
    "granos_actual = Table(\n",
    "    \"sniim_granosbasicos\",\n",
    "    parent_dir='data/NationalPrices',\n",
    ")\n",
    "granos_historico = Table(\n",
    "    \"sniim_granosbasicoshistorica\",\n",
    "    parent_dir=\"data/NationalPrices\",\n",
    ")\n",
    "precios_internacionales_actual = Table(\n",
    "    \"ams_preciosinternacionalespuntoembarque\",\n",
    "    parent_dir=\"data/InternationalPrices\",\n",
    ")\n",
    "precios_internacionales_historico = Table(\n",
    "    \"ams_preciosinternacionalespuntoembarquehistorica\",\n",
    "    parent_dir=\"data/InternationalPrices\",\n",
    ")\n",
    "\n",
    "national_list = [\n",
    "    granos_actual,\n",
    "    granos_historico,\n",
    "]\n",
    "\n",
    "international_list = [\n",
    "    precios_internacionales_actual,\n",
    "    precios_internacionales_historico,\n",
    "]\n",
    "\n",
    "table_list = [\n",
    "    granos_actual,\n",
    "    granos_historico,\n",
    "    precios_internacionales_actual,\n",
    "    precios_internacionales_historico,\n",
    "]\n",
    "\n",
    "table_dict = {\n",
    "    \"granos_actual\": granos_actual,\n",
    "    \"granos_historico\": granos_historico,\n",
    "    \"internacionales_actual\": precios_internacionales_actual,\n",
    "    \"internacionales_historico\": precios_internacionales_historico,\n",
    "}"
   ]
  },
  {
   "cell_type": "code",
   "execution_count": null,
   "metadata": {
    "vscode": {
     "languageId": "python"
    }
   },
   "outputs": [],
   "source": []
  }
 ],
 "metadata": {
  "kernelspec": {
   "display_name": "Python 3.8.6 ('base')",
   "language": "python",
   "name": "python3"
  }
 },
 "nbformat": 4,
 "nbformat_minor": 2
}
