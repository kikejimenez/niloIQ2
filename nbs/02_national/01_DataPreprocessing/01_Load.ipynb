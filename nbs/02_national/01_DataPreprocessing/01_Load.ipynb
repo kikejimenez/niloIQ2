{
 "cells": [
  {
   "cell_type": "raw",
   "metadata": {},
   "source": [
    "---\n",
    "{}\n",
    "\n",
    "---\n",
    "\n"
   ]
  },
  {
   "cell_type": "code",
   "execution_count": null,
   "id": "framed-pearl",
   "metadata": {},
   "outputs": [],
   "source": [
    "#| default_exp national.data_preprocessing.load"
   ]
  },
  {
   "cell_type": "markdown",
   "id": "integral-might",
   "metadata": {},
   "source": [
    "## Loading Data"
   ]
  },
  {
   "cell_type": "code",
   "execution_count": null,
   "id": "spoken-emission",
   "metadata": {},
   "outputs": [],
   "source": [
    "#| export\n",
    "\n",
    "from pathlib import Path\n",
    "import pandas as pd\n",
    "from niloIQ2.national import tables"
   ]
  },
  {
   "cell_type": "code",
   "execution_count": null,
   "id": "defensive-fundamental",
   "metadata": {},
   "outputs": [
    {
     "ename": "FileNotFoundError",
     "evalue": "[Errno 2] No such file or directory: '/workspaces/niloIQ/data/NationalPrices/04_W-MON'",
     "output_type": "error",
     "traceback": [
      "\u001b[0;31m---------------------------------------------------------------------------\u001b[0m",
      "\u001b[0;31mFileNotFoundError\u001b[0m                         Traceback (most recent call last)",
      "\u001b[1;32m/workspaces/niloIQ2/nbs/02_national/01_DataPreprocessing/01_Load.ipynb Cell 5\u001b[0m in \u001b[0;36m<cell line: 2>\u001b[0;34m()\u001b[0m\n\u001b[1;32m      <a href='vscode-notebook-cell://dev-container%2B2f686f6d652f656e72697175652f6e696c6f5f69712f6e696c6f495132/workspaces/niloIQ2/nbs/02_national/01_DataPreprocessing/01_Load.ipynb#W4sdnNjb2RlLXJlbW90ZQ%3D%3D?line=0'>1</a>\u001b[0m \u001b[39m#| export\u001b[39;00m\n\u001b[0;32m----> <a href='vscode-notebook-cell://dev-container%2B2f686f6d652f656e72697175652f6e696c6f5f69712f6e696c6f495132/workspaces/niloIQ2/nbs/02_national/01_DataPreprocessing/01_Load.ipynb#W4sdnNjb2RlLXJlbW90ZQ%3D%3D?line=1'>2</a>\u001b[0m \u001b[39mclass\u001b[39;00m \u001b[39mData\u001b[39;00m:\n\u001b[1;32m      <a href='vscode-notebook-cell://dev-container%2B2f686f6d652f656e72697175652f6e696c6f5f69712f6e696c6f495132/workspaces/niloIQ2/nbs/02_national/01_DataPreprocessing/01_Load.ipynb#W4sdnNjb2RlLXJlbW90ZQ%3D%3D?line=2'>3</a>\u001b[0m     \u001b[39m\"\"\"\u001b[39;00m\n\u001b[1;32m      <a href='vscode-notebook-cell://dev-container%2B2f686f6d652f656e72697175652f6e696c6f5f69712f6e696c6f495132/workspaces/niloIQ2/nbs/02_national/01_DataPreprocessing/01_Load.ipynb#W4sdnNjb2RlLXJlbW90ZQ%3D%3D?line=3'>4</a>\u001b[0m \u001b[39m    Loads the data\u001b[39;00m\n\u001b[1;32m      <a href='vscode-notebook-cell://dev-container%2B2f686f6d652f656e72697175652f6e696c6f5f69712f6e696c6f495132/workspaces/niloIQ2/nbs/02_national/01_DataPreprocessing/01_Load.ipynb#W4sdnNjb2RlLXJlbW90ZQ%3D%3D?line=4'>5</a>\u001b[0m \u001b[39m    \"\"\"\u001b[39;00m\n\u001b[1;32m      <a href='vscode-notebook-cell://dev-container%2B2f686f6d652f656e72697175652f6e696c6f5f69712f6e696c6f495132/workspaces/niloIQ2/nbs/02_national/01_DataPreprocessing/01_Load.ipynb#W4sdnNjb2RlLXJlbW90ZQ%3D%3D?line=6'>7</a>\u001b[0m     \u001b[39mdef\u001b[39;00m \u001b[39m__init__\u001b[39m(\u001b[39mself\u001b[39m,\n\u001b[1;32m      <a href='vscode-notebook-cell://dev-container%2B2f686f6d652f656e72697175652f6e696c6f5f69712f6e696c6f495132/workspaces/niloIQ2/nbs/02_national/01_DataPreprocessing/01_Load.ipynb#W4sdnNjb2RlLXJlbW90ZQ%3D%3D?line=7'>8</a>\u001b[0m                  data_path: \u001b[39mstr\u001b[39m \u001b[39m=\u001b[39m tables\u001b[39m.\u001b[39mgranos_historico\u001b[39m.\u001b[39mversion(\u001b[39m'\u001b[39m\u001b[39m04_W-MON\u001b[39m\u001b[39m'\u001b[39m),\n\u001b[1;32m      <a href='vscode-notebook-cell://dev-container%2B2f686f6d652f656e72697175652f6e696c6f5f69712f6e696c6f495132/workspaces/niloIQ2/nbs/02_national/01_DataPreprocessing/01_Load.ipynb#W4sdnNjb2RlLXJlbW90ZQ%3D%3D?line=8'>9</a>\u001b[0m                  \u001b[39m*\u001b[39m\u001b[39m*\u001b[39margs):\n",
      "\u001b[1;32m/workspaces/niloIQ2/nbs/02_national/01_DataPreprocessing/01_Load.ipynb Cell 5\u001b[0m in \u001b[0;36mData\u001b[0;34m()\u001b[0m\n\u001b[1;32m      <a href='vscode-notebook-cell://dev-container%2B2f686f6d652f656e72697175652f6e696c6f5f69712f6e696c6f495132/workspaces/niloIQ2/nbs/02_national/01_DataPreprocessing/01_Load.ipynb#W4sdnNjb2RlLXJlbW90ZQ%3D%3D?line=1'>2</a>\u001b[0m \u001b[39mclass\u001b[39;00m \u001b[39mData\u001b[39;00m:\n\u001b[1;32m      <a href='vscode-notebook-cell://dev-container%2B2f686f6d652f656e72697175652f6e696c6f5f69712f6e696c6f495132/workspaces/niloIQ2/nbs/02_national/01_DataPreprocessing/01_Load.ipynb#W4sdnNjb2RlLXJlbW90ZQ%3D%3D?line=2'>3</a>\u001b[0m     \u001b[39m\"\"\"\u001b[39;00m\n\u001b[1;32m      <a href='vscode-notebook-cell://dev-container%2B2f686f6d652f656e72697175652f6e696c6f5f69712f6e696c6f495132/workspaces/niloIQ2/nbs/02_national/01_DataPreprocessing/01_Load.ipynb#W4sdnNjb2RlLXJlbW90ZQ%3D%3D?line=3'>4</a>\u001b[0m \u001b[39m    Loads the data\u001b[39;00m\n\u001b[1;32m      <a href='vscode-notebook-cell://dev-container%2B2f686f6d652f656e72697175652f6e696c6f5f69712f6e696c6f495132/workspaces/niloIQ2/nbs/02_national/01_DataPreprocessing/01_Load.ipynb#W4sdnNjb2RlLXJlbW90ZQ%3D%3D?line=4'>5</a>\u001b[0m \u001b[39m    \"\"\"\u001b[39;00m\n\u001b[1;32m      <a href='vscode-notebook-cell://dev-container%2B2f686f6d652f656e72697175652f6e696c6f5f69712f6e696c6f495132/workspaces/niloIQ2/nbs/02_national/01_DataPreprocessing/01_Load.ipynb#W4sdnNjb2RlLXJlbW90ZQ%3D%3D?line=6'>7</a>\u001b[0m     \u001b[39mdef\u001b[39;00m \u001b[39m__init__\u001b[39m(\u001b[39mself\u001b[39m,\n\u001b[0;32m----> <a href='vscode-notebook-cell://dev-container%2B2f686f6d652f656e72697175652f6e696c6f5f69712f6e696c6f495132/workspaces/niloIQ2/nbs/02_national/01_DataPreprocessing/01_Load.ipynb#W4sdnNjb2RlLXJlbW90ZQ%3D%3D?line=7'>8</a>\u001b[0m                  data_path: \u001b[39mstr\u001b[39m \u001b[39m=\u001b[39m tables\u001b[39m.\u001b[39;49mgranos_historico\u001b[39m.\u001b[39;49mversion(\u001b[39m'\u001b[39;49m\u001b[39m04_W-MON\u001b[39;49m\u001b[39m'\u001b[39;49m),\n\u001b[1;32m      <a href='vscode-notebook-cell://dev-container%2B2f686f6d652f656e72697175652f6e696c6f5f69712f6e696c6f495132/workspaces/niloIQ2/nbs/02_national/01_DataPreprocessing/01_Load.ipynb#W4sdnNjb2RlLXJlbW90ZQ%3D%3D?line=8'>9</a>\u001b[0m                  \u001b[39m*\u001b[39m\u001b[39m*\u001b[39margs):\n\u001b[1;32m     <a href='vscode-notebook-cell://dev-container%2B2f686f6d652f656e72697175652f6e696c6f5f69712f6e696c6f495132/workspaces/niloIQ2/nbs/02_national/01_DataPreprocessing/01_Load.ipynb#W4sdnNjb2RlLXJlbW90ZQ%3D%3D?line=9'>10</a>\u001b[0m         \u001b[39msuper\u001b[39m()\u001b[39m.\u001b[39m\u001b[39m__init__\u001b[39m(\u001b[39m*\u001b[39m\u001b[39m*\u001b[39margs)\n\u001b[1;32m     <a href='vscode-notebook-cell://dev-container%2B2f686f6d652f656e72697175652f6e696c6f5f69712f6e696c6f495132/workspaces/niloIQ2/nbs/02_national/01_DataPreprocessing/01_Load.ipynb#W4sdnNjb2RlLXJlbW90ZQ%3D%3D?line=11'>12</a>\u001b[0m         \u001b[39mself\u001b[39m\u001b[39m.\u001b[39mdf \u001b[39m=\u001b[39m pd\u001b[39m.\u001b[39mread_csv(data_path)\n",
      "File \u001b[0;32m/workspaces/niloIQ2/nbs/02_national/01_DataPreprocessing/niloIQ2/national/tables.py:44\u001b[0m, in \u001b[0;36mTable.version\u001b[0;34m(self, version_name)\u001b[0m\n\u001b[1;32m     42\u001b[0m _dir \u001b[39m=\u001b[39m path\u001b[39m.\u001b[39mjoin(ROOT_DIRECTORY, \u001b[39mself\u001b[39m\u001b[39m.\u001b[39mparent_dir, version_name)\n\u001b[1;32m     43\u001b[0m \u001b[39mif\u001b[39;00m \u001b[39mnot\u001b[39;00m path\u001b[39m.\u001b[39misdir(_dir):\n\u001b[0;32m---> 44\u001b[0m     mkdir(_dir)\n\u001b[1;32m     45\u001b[0m \u001b[39mreturn\u001b[39;00m path\u001b[39m.\u001b[39mjoin(_dir, \u001b[39mself\u001b[39m\u001b[39m.\u001b[39mtable_name)\n",
      "\u001b[0;31mFileNotFoundError\u001b[0m: [Errno 2] No such file or directory: '/workspaces/niloIQ/data/NationalPrices/04_W-MON'"
     ]
    }
   ],
   "source": [
    "#| export\n",
    "class Data:\n",
    "    \"\"\"\n",
    "    Loads the data\n",
    "    \"\"\"\n",
    "\n",
    "    def __init__(self,\n",
    "                 data_path: str = tables.granos_historico.version('04_W-MON'),\n",
    "                 **args):\n",
    "        super().__init__(**args)\n",
    "\n",
    "        self.df = pd.read_csv(data_path)\n",
    "\n",
    "        self.df['date'] = pd.to_datetime(\n",
    "            self.df['date'])"
   ]
  },
  {
   "cell_type": "code",
   "execution_count": null,
   "id": "alone-lyric",
   "metadata": {},
   "outputs": [],
   "source": [
    "data = Data()"
   ]
  },
  {
   "cell_type": "code",
   "execution_count": null,
   "id": "geographic-planner",
   "metadata": {},
   "outputs": [
    {
     "data": {
      "text/html": [
       "<div>\n",
       "<style scoped>\n",
       "    .dataframe tbody tr th:only-of-type {\n",
       "        vertical-align: middle;\n",
       "    }\n",
       "\n",
       "    .dataframe tbody tr th {\n",
       "        vertical-align: top;\n",
       "    }\n",
       "\n",
       "    .dataframe thead th {\n",
       "        text-align: right;\n",
       "    }\n",
       "</style>\n",
       "<table border=\"1\" class=\"dataframe\">\n",
       "  <thead>\n",
       "    <tr style=\"text-align: right;\">\n",
       "      <th></th>\n",
       "      <th>state</th>\n",
       "      <th>product</th>\n",
       "      <th>date</th>\n",
       "      <th>min_price</th>\n",
       "      <th>max_price</th>\n",
       "      <th>price</th>\n",
       "      <th>import</th>\n",
       "    </tr>\n",
       "  </thead>\n",
       "  <tbody>\n",
       "    <tr>\n",
       "      <th>18802</th>\n",
       "      <td>Baja California Sur</td>\n",
       "      <td>Haba</td>\n",
       "      <td>2016-08-08</td>\n",
       "      <td>40.0</td>\n",
       "      <td>43.0</td>\n",
       "      <td>40.0</td>\n",
       "      <td>False</td>\n",
       "    </tr>\n",
       "    <tr>\n",
       "      <th>166275</th>\n",
       "      <td>Sonora</td>\n",
       "      <td>Arroz pulido tipo Morelos</td>\n",
       "      <td>2011-05-02</td>\n",
       "      <td>18.0</td>\n",
       "      <td>18.0</td>\n",
       "      <td>18.0</td>\n",
       "      <td>False</td>\n",
       "    </tr>\n",
       "    <tr>\n",
       "      <th>55227</th>\n",
       "      <td>Durango</td>\n",
       "      <td>Arroz pulido sin especificar</td>\n",
       "      <td>2014-12-22</td>\n",
       "      <td>10.2</td>\n",
       "      <td>10.3</td>\n",
       "      <td>10.2</td>\n",
       "      <td>True</td>\n",
       "    </tr>\n",
       "    <tr>\n",
       "      <th>193181</th>\n",
       "      <td>Zacatecas</td>\n",
       "      <td>Alubia grande</td>\n",
       "      <td>2015-06-29</td>\n",
       "      <td>12.0</td>\n",
       "      <td>12.0</td>\n",
       "      <td>12.0</td>\n",
       "      <td>False</td>\n",
       "    </tr>\n",
       "    <tr>\n",
       "      <th>19325</th>\n",
       "      <td>Baja California Sur</td>\n",
       "      <td>Lenteja grande</td>\n",
       "      <td>2017-07-03</td>\n",
       "      <td>36.5</td>\n",
       "      <td>38.0</td>\n",
       "      <td>36.5</td>\n",
       "      <td>True</td>\n",
       "    </tr>\n",
       "  </tbody>\n",
       "</table>\n",
       "</div>"
      ],
      "text/plain": [
       "                      state                       product       date  \\\n",
       "18802   Baja California Sur                          Haba 2016-08-08   \n",
       "166275               Sonora     Arroz pulido tipo Morelos 2011-05-02   \n",
       "55227               Durango  Arroz pulido sin especificar 2014-12-22   \n",
       "193181            Zacatecas                 Alubia grande 2015-06-29   \n",
       "19325   Baja California Sur                Lenteja grande 2017-07-03   \n",
       "\n",
       "        min_price  max_price  price  import  \n",
       "18802        40.0       43.0   40.0   False  \n",
       "166275       18.0       18.0   18.0   False  \n",
       "55227        10.2       10.3   10.2    True  \n",
       "193181       12.0       12.0   12.0   False  \n",
       "19325        36.5       38.0   36.5    True  "
      ]
     },
     "execution_count": null,
     "metadata": {},
     "output_type": "execute_result"
    }
   ],
   "source": [
    "data.df.sample(5)"
   ]
  }
 ],
 "metadata": {
  "kernelspec": {
   "display_name": "Python 3.10.6 ('base')",
   "language": "python",
   "name": "python3"
  }
 },
 "nbformat": 4,
 "nbformat_minor": 5
}
