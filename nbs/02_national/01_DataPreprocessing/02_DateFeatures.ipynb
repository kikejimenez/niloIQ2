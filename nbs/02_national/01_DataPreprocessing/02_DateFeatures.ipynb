{
 "cells": [
  {
   "cell_type": "raw",
   "id": "376632dc",
   "metadata": {},
   "source": [
    "# Date Features"
   ]
  },
  {
   "cell_type": "raw",
   "metadata": {},
   "source": [
    "---\n",
    "description: Create Day Month Year columns\n",
    "title: Data Preprocessing Date Features\n",
    "---\n",
    "\n"
   ]
  },
  {
   "cell_type": "code",
   "execution_count": null,
   "id": "junior-consumption",
   "metadata": {},
   "outputs": [],
   "source": [
    "#| default_exp national.data_preprocessing.date_features"
   ]
  },
  {
   "cell_type": "code",
   "execution_count": null,
   "id": "statistical-mining",
   "metadata": {},
   "outputs": [],
   "source": [
    "#| export\n",
    "\n",
    "from niloIQ2.national.data_preprocessing import load\n",
    "from niloIQ2.national import tables\n",
    "import pandas as pd"
   ]
  },
  {
   "cell_type": "code",
   "execution_count": null,
   "id": "gorgeous-aside",
   "metadata": {},
   "outputs": [],
   "source": [
    "#| export\n",
    "\n",
    "\n",
    "class Data(load.Data):\n",
    "\n",
    "    def __init__(\n",
    "            self,\n",
    "            data_path: str = tables.granos_historico.version('04_W-MON'),\n",
    "     ):\n",
    "        super().__init__(data_path=data_path)\n",
    "\n",
    "        self.df.set_index('date', inplace=True)\n",
    "\n",
    "        self.df.sort_index(inplace=True)\n",
    "\n",
    "        self.df['Year'] = self.df.index.year\n",
    "        self.df['Month'] = self.df.index.month\n",
    "        self.df[\n",
    "            'WeekOfYear'] = self.df.index.isocalendar().week\n",
    "        self.df.reset_index(inplace=True)"
   ]
  },
  {
   "cell_type": "code",
   "execution_count": null,
   "id": "martial-calendar",
   "metadata": {},
   "outputs": [],
   "source": [
    "from niloIQ2.national.data_preprocessing.date_features import Data\n",
    "\n",
    "data = Data()"
   ]
  },
  {
   "cell_type": "code",
   "execution_count": null,
   "id": "bored-straight",
   "metadata": {},
   "outputs": [
    {
     "data": {
      "text/html": [
       "<div>\n",
       "<style scoped>\n",
       "    .dataframe tbody tr th:only-of-type {\n",
       "        vertical-align: middle;\n",
       "    }\n",
       "\n",
       "    .dataframe tbody tr th {\n",
       "        vertical-align: top;\n",
       "    }\n",
       "\n",
       "    .dataframe thead th {\n",
       "        text-align: right;\n",
       "    }\n",
       "</style>\n",
       "<table border=\"1\" class=\"dataframe\">\n",
       "  <thead>\n",
       "    <tr style=\"text-align: right;\">\n",
       "      <th></th>\n",
       "      <th>Year</th>\n",
       "      <th>Month</th>\n",
       "      <th>WeekOfYear</th>\n",
       "    </tr>\n",
       "  </thead>\n",
       "  <tbody>\n",
       "    <tr>\n",
       "      <th>0</th>\n",
       "      <td>2010</td>\n",
       "      <td>1</td>\n",
       "      <td>2</td>\n",
       "    </tr>\n",
       "    <tr>\n",
       "      <th>1</th>\n",
       "      <td>2010</td>\n",
       "      <td>1</td>\n",
       "      <td>2</td>\n",
       "    </tr>\n",
       "    <tr>\n",
       "      <th>2</th>\n",
       "      <td>2010</td>\n",
       "      <td>1</td>\n",
       "      <td>2</td>\n",
       "    </tr>\n",
       "    <tr>\n",
       "      <th>3</th>\n",
       "      <td>2010</td>\n",
       "      <td>1</td>\n",
       "      <td>2</td>\n",
       "    </tr>\n",
       "    <tr>\n",
       "      <th>4</th>\n",
       "      <td>2010</td>\n",
       "      <td>1</td>\n",
       "      <td>2</td>\n",
       "    </tr>\n",
       "    <tr>\n",
       "      <th>...</th>\n",
       "      <td>...</td>\n",
       "      <td>...</td>\n",
       "      <td>...</td>\n",
       "    </tr>\n",
       "    <tr>\n",
       "      <th>200059</th>\n",
       "      <td>2020</td>\n",
       "      <td>12</td>\n",
       "      <td>51</td>\n",
       "    </tr>\n",
       "    <tr>\n",
       "      <th>200060</th>\n",
       "      <td>2020</td>\n",
       "      <td>12</td>\n",
       "      <td>51</td>\n",
       "    </tr>\n",
       "    <tr>\n",
       "      <th>200061</th>\n",
       "      <td>2020</td>\n",
       "      <td>12</td>\n",
       "      <td>51</td>\n",
       "    </tr>\n",
       "    <tr>\n",
       "      <th>200062</th>\n",
       "      <td>2020</td>\n",
       "      <td>12</td>\n",
       "      <td>51</td>\n",
       "    </tr>\n",
       "    <tr>\n",
       "      <th>200063</th>\n",
       "      <td>2020</td>\n",
       "      <td>12</td>\n",
       "      <td>51</td>\n",
       "    </tr>\n",
       "  </tbody>\n",
       "</table>\n",
       "<p>200064 rows × 3 columns</p>\n",
       "</div>"
      ],
      "text/plain": [
       "        Year  Month  WeekOfYear\n",
       "0       2010      1           2\n",
       "1       2010      1           2\n",
       "2       2010      1           2\n",
       "3       2010      1           2\n",
       "4       2010      1           2\n",
       "...      ...    ...         ...\n",
       "200059  2020     12          51\n",
       "200060  2020     12          51\n",
       "200061  2020     12          51\n",
       "200062  2020     12          51\n",
       "200063  2020     12          51\n",
       "\n",
       "[200064 rows x 3 columns]"
      ]
     },
     "execution_count": null,
     "metadata": {},
     "output_type": "execute_result"
    }
   ],
   "source": [
    "data.df[['Year','Month','WeekOfYear']]"
   ]
  },
  {
   "cell_type": "code",
   "execution_count": null,
   "id": "simplified-showcase",
   "metadata": {},
   "outputs": [
    {
     "data": {
      "text/plain": [
       "True"
      ]
     },
     "execution_count": null,
     "metadata": {},
     "output_type": "execute_result"
    }
   ],
   "source": [
    "data.df['date'].is_monotonic"
   ]
  },
  {
   "cell_type": "code",
   "execution_count": null,
   "id": "c9fb8b06",
   "metadata": {},
   "outputs": [],
   "source": [
    "from national.data_preprocessing.date_features import Data\n",
    "\n",
    "data = Data(data_path=tables.granos_actual.version('04_W-MON'))"
   ]
  },
  {
   "cell_type": "code",
   "execution_count": null,
   "id": "82473258",
   "metadata": {},
   "outputs": [
    {
     "data": {
      "text/plain": [
       "True"
      ]
     },
     "execution_count": null,
     "metadata": {},
     "output_type": "execute_result"
    }
   ],
   "source": [
    "data.df['date'].is_monotonic"
   ]
  },
  {
   "cell_type": "code",
   "execution_count": null,
   "id": "ccfd9819",
   "metadata": {},
   "outputs": [
    {
     "data": {
      "text/plain": [
       "2021    11808\n",
       "2022    11475\n",
       "2020     3624\n",
       "Name: Year, dtype: int64"
      ]
     },
     "execution_count": null,
     "metadata": {},
     "output_type": "execute_result"
    }
   ],
   "source": [
    "data.df['Year'].value_counts()"
   ]
  },
  {
   "cell_type": "code",
   "execution_count": null,
   "id": "7716ebd0",
   "metadata": {},
   "outputs": [],
   "source": []
  }
 ],
 "metadata": {
  "kernelspec": {
   "display_name": "Python 3.10.6 ('base')",
   "language": "python",
   "name": "python3"
  }
 },
 "nbformat": 4,
 "nbformat_minor": 5
}
