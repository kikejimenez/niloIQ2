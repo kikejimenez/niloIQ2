{
 "cells": [
  {
   "cell_type": "raw",
   "metadata": {},
   "source": [
    "---\n",
    "{}\n",
    "\n",
    "---\n",
    "\n"
   ]
  },
  {
   "cell_type": "code",
   "execution_count": null,
   "id": "worthy-robin",
   "metadata": {},
   "outputs": [],
   "source": [
    "#| default_exp eda.date_range"
   ]
  },
  {
   "cell_type": "code",
   "execution_count": null,
   "id": "literary-tulsa",
   "metadata": {},
   "outputs": [],
   "source": [
    "#| export\n",
    "from pathlib import Path\n",
    "import pandas as pd\n"
   ]
  },
  {
   "cell_type": "code",
   "execution_count": null,
   "id": "190ee82f",
   "metadata": {},
   "outputs": [],
   "source": [
    "#| export\n",
    "\n",
    "\n",
    "def min_max_diff(\n",
    "    data: pd.DataFrame,\n",
    "    col_name: str,\n",
    "):\n",
    "    \"\"\" \n",
    "    Given a dataframe and the name of a column with datetime information it gives the starting and finishing dates with \n",
    "    the total of days in the time ??frame.\n",
    "    \n",
    "    :param data: A pandas dataframe with date information\n",
    "    :param date_column: The name of a column with time information. Expected in format YYYY-mm-dd\n",
    "    return: Print a summary of starting and finishing date with the days elapsed in the period\n",
    "    \n",
    "    \"\"\"\n",
    "\n",
    "    df = data[col_name]\n",
    "\n",
    "    _min = df.min()\n",
    "    _max = df.max()\n",
    "    _range = _max - _min\n",
    "    \n",
    "    return _min,_max, _range"
   ]
  },
  {
   "cell_type": "code",
   "execution_count": null,
   "id": "naughty-issue",
   "metadata": {},
   "outputs": [],
   "source": [
    "#| export\n",
    "\n",
    "\n",
    "def get_time_frame_info(\n",
    "    data: pd.DataFrame,\n",
    "    date_column: str,\n",
    "):\n",
    "    \"\"\" \n",
    "    Given a dataframe and the name of a column with datetime information it gives the starting and finishing dates with \n",
    "    the total of days in the time frame.\n",
    "    \n",
    "    :param data: A pandas dataframe with date information\n",
    "    :param date_column: The name of a column with time information. Expected in format YYYY-mm-dd\n",
    "    return: Print a summary of starting and finishing date with the days elapsed in the period\n",
    "    \n",
    "    \"\"\"\n",
    "\n",
    "    min_date, max_date, range_date = min_max_diff(data,date_column)\n",
    "    print(\n",
    "        f\"The time frame starts on {min_date.strftime('%Y-%m-%d')} and conclude on {max_date.strftime('%Y-%m-%d')}. A total of {range_date.days} days\"\n",
    "    )"
   ]
  },
  {
   "cell_type": "code",
   "execution_count": null,
   "id": "bigger-jamaica",
   "metadata": {},
   "outputs": [],
   "source": [
    "from national.data_preprocessing.date_features import Data\n",
    "from national import tables\n",
    "historic = Data(data_path=tables.granos_historico.version('04_W-MON'))\n",
    "\n",
    "current = Data(data_path=tables.granos_actual.version('04_W-MON'))"
   ]
  },
  {
   "cell_type": "code",
   "execution_count": null,
   "id": "comparable-session",
   "metadata": {},
   "outputs": [
    {
     "name": "stdout",
     "output_type": "stream",
     "text": [
      "The time frame starts on 2010-01-11 and conclude on 2020-12-14. A total of 3990 days\n"
     ]
    }
   ],
   "source": [
    "\n",
    "get_time_frame_info(\n",
    "    historic.df,\n",
    "    'date',\n",
    ")"
   ]
  },
  {
   "cell_type": "code",
   "execution_count": null,
   "id": "bdbf2d47",
   "metadata": {},
   "outputs": [
    {
     "name": "stdout",
     "output_type": "stream",
     "text": [
      "The time frame starts on 2020-02-17 and conclude on 2022-12-05. A total of 1022 days\n"
     ]
    }
   ],
   "source": [
    "get_time_frame_info(\n",
    "    current.df,\n",
    "    'date',\n",
    ")"
   ]
  },
  {
   "cell_type": "code",
   "execution_count": null,
   "id": "fabulous-christian",
   "metadata": {},
   "outputs": [
    {
     "data": {
      "text/plain": [
       "(0.0, 211.125, 211.125)"
      ]
     },
     "execution_count": null,
     "metadata": {},
     "output_type": "execute_result"
    }
   ],
   "source": [
    "min_max_diff(\n",
    "    historic.df,\n",
    "    'price',\n",
    ")"
   ]
  },
  {
   "cell_type": "code",
   "execution_count": null,
   "id": "4bbca096",
   "metadata": {},
   "outputs": [
    {
     "data": {
      "text/plain": [
       "(0.0, 350.0, 350.0)"
      ]
     },
     "execution_count": null,
     "metadata": {},
     "output_type": "execute_result"
    }
   ],
   "source": [
    "\n",
    "min_max_diff(\n",
    "    current.df,\n",
    "    'price',\n",
    ")"
   ]
  },
  {
   "cell_type": "code",
   "execution_count": null,
   "id": "050e8c5a",
   "metadata": {},
   "outputs": [],
   "source": []
  }
 ],
 "metadata": {
  "kernelspec": {
   "display_name": "Python 3.8.6 ('base')",
   "language": "python",
   "name": "python3"
  }
 },
 "nbformat": 4,
 "nbformat_minor": 5
}
