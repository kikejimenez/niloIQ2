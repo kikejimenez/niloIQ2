{
 "cells": [
  {
   "cell_type": "raw",
   "metadata": {},
   "source": [
    "---\n",
    "{}\n",
    "\n",
    "---\n",
    "\n"
   ]
  },
  {
   "cell_type": "code",
   "execution_count": null,
   "id": "plain-essay",
   "metadata": {},
   "outputs": [],
   "source": [
    "#| default_exp time_series.unit_root_tests"
   ]
  },
  {
   "cell_type": "code",
   "execution_count": null,
   "id": "together-classification",
   "metadata": {},
   "outputs": [],
   "source": [
    "#| export\n",
    "from typing import Union\n",
    "from itertools import product as Product\n",
    "import numpy as np\n",
    "import pandas as pd\n",
    "from statsmodels.tsa.stattools import adfuller\n",
    "import national.time_series.process as ts_process\n",
    "from IPython.display import display, Markdown\n"
   ]
  },
  {
   "cell_type": "markdown",
   "id": "shaped-wiring",
   "metadata": {},
   "source": [
    "Sources:\n",
    "\n",
    "\n",
    "[Wikipedia](https://en.wikipedia.org/wiki/Augmented_Dickey%E2%80%93Fuller_test)\n",
    "\n",
    "[Statsmodels](https://www.statsmodels.org/dev/generated/statsmodels.tsa.stattools.adfuller.html)"
   ]
  },
  {
   "cell_type": "code",
   "execution_count": null,
   "id": "square-accreditation",
   "metadata": {},
   "outputs": [],
   "source": [
    "#| export\n",
    "def augmented_dickey_fuller(\n",
    "    df: pd.DataFrame,\n",
    "    kpi: str,\n",
    "    freqs: Union[str, list] = ['W-Fri', 'Q'],\n",
    "    ylog: bool = True,\n",
    "):\n",
    "    \"\"\"\n",
    "    Augmented-Dickey-Fuller\n",
    "    \n",
    "    Returns:\n",
    "    \n",
    "adffloat\n",
    "The test statistic.\n",
    "\n",
    "pvaluefloat\n",
    "MacKinnon’s approximate p-value based on MacKinnon (1994, 2010).\n",
    "\n",
    "usedlagint\n",
    "The number of lags used.\n",
    "\n",
    "nobsint\n",
    "The number of observations used for the ADF regression and calculation of the critical values.\n",
    "\n",
    "critical valuesdict\n",
    "Critical values for the test statistic at the 1 %, 5 %, and 10 % levels. Based on MacKinnon (2010).\n",
    "\n",
    "icbestfloat\n",
    "The maximized information criterion if autolag is not None.\n",
    "\n",
    "resstoreResultStore, optional\n",
    "A dummy class with results attached as attributes.\n",
    "    \"\"\"\n",
    "\n",
    "    agg_method = {\n",
    "        kpi: np.mean,\n",
    "    }\n",
    "\n",
    "    ts = ts_process.time_series(\n",
    "        df=df,\n",
    "        time_column='date',\n",
    "        freq=freqs,\n",
    "        agg_method=agg_method,\n",
    "    )\n",
    "\n",
    "    regression = {\n",
    "        'constant': 'c',\n",
    "        'constant and trend': 'ct',\n",
    "        'const., and linear and quad. trend': 'ctt',\n",
    "        'no constant, no trend': 'n',\n",
    "    }\n",
    "    multi_index = pd.MultiIndex.from_product(\n",
    "        [\n",
    "            regression.keys(),\n",
    "        ],\n",
    "        names=['Regression'],\n",
    "    )\n",
    "    multi_column = pd.MultiIndex.from_product([\n",
    "        ['Augmented Dickey-Fuller'],\n",
    "        ['Test statistic', 'MacKinnon’s p-value'],\n",
    "    ])\n",
    "    df = pd.DataFrame(\n",
    "        columns=multi_column,\n",
    "        index=multi_index,\n",
    "    )\n",
    "\n",
    "    for rg in multi_index.get_level_values(0):\n",
    "        adf = adfuller(\n",
    "            ts[kpi],\n",
    "            maxlag=None,\n",
    "            regression=regression[rg],\n",
    "            autolag='AIC',\n",
    "            store=True,\n",
    "            regresults=False,\n",
    "        )\n",
    "        res = adf[-1]\n",
    "        col_test_stat = ('Augmented Dickey-Fuller', 'Test statistic')\n",
    "        col_dickey_p_value = ('Augmented Dickey-Fuller', 'MacKinnon’s p-value')\n",
    "        df.loc[rg, col_test_stat] = res.adfstat\n",
    "        df.loc[rg, col_dickey_p_value] = adf[1]\n",
    "\n",
    "    return df"
   ]
  },
  {
   "cell_type": "code",
   "execution_count": null,
   "id": "structural-composer",
   "metadata": {},
   "outputs": [
    {
     "data": {
      "text/html": [
       "<div>\n",
       "<style scoped>\n",
       "    .dataframe tbody tr th:only-of-type {\n",
       "        vertical-align: middle;\n",
       "    }\n",
       "\n",
       "    .dataframe tbody tr th {\n",
       "        vertical-align: top;\n",
       "    }\n",
       "\n",
       "    .dataframe thead tr th {\n",
       "        text-align: left;\n",
       "    }\n",
       "\n",
       "    .dataframe thead tr:last-of-type th {\n",
       "        text-align: right;\n",
       "    }\n",
       "</style>\n",
       "<table border=\"1\" class=\"dataframe\">\n",
       "  <thead>\n",
       "    <tr>\n",
       "      <th></th>\n",
       "      <th colspan=\"2\" halign=\"left\">Augmented Dickey-Fuller</th>\n",
       "    </tr>\n",
       "    <tr>\n",
       "      <th></th>\n",
       "      <th>Test statistic</th>\n",
       "      <th>MacKinnon’s p-value</th>\n",
       "    </tr>\n",
       "    <tr>\n",
       "      <th>Regression</th>\n",
       "      <th></th>\n",
       "      <th></th>\n",
       "    </tr>\n",
       "  </thead>\n",
       "  <tbody>\n",
       "    <tr>\n",
       "      <th>constant</th>\n",
       "      <td>-1.921263</td>\n",
       "      <td>0.322125</td>\n",
       "    </tr>\n",
       "    <tr>\n",
       "      <th>constant and trend</th>\n",
       "      <td>-2.852782</td>\n",
       "      <td>0.178234</td>\n",
       "    </tr>\n",
       "    <tr>\n",
       "      <th>const., and linear and quad. trend</th>\n",
       "      <td>-2.926008</td>\n",
       "      <td>0.331608</td>\n",
       "    </tr>\n",
       "    <tr>\n",
       "      <th>no constant, no trend</th>\n",
       "      <td>0.637235</td>\n",
       "      <td>0.854519</td>\n",
       "    </tr>\n",
       "  </tbody>\n",
       "</table>\n",
       "</div>"
      ],
      "text/plain": [
       "                                   Augmented Dickey-Fuller                    \n",
       "                                            Test statistic MacKinnon’s p-value\n",
       "Regression                                                                    \n",
       "constant                                         -1.921263            0.322125\n",
       "constant and trend                               -2.852782            0.178234\n",
       "const., and linear and quad. trend               -2.926008            0.331608\n",
       "no constant, no trend                             0.637235            0.854519"
      ]
     },
     "execution_count": null,
     "metadata": {},
     "output_type": "execute_result"
    }
   ],
   "source": [
    "##%% export\n",
    "from national.data_preprocessing.date_features import Data\n",
    "from national.time_series import unit_root_tests\n",
    "\n",
    "\n",
    "data = Data()\n",
    "adf_df = unit_root_tests.augmented_dickey_fuller(data.national_historic, kpi='price', freqs='M')\n",
    "adf_df"
   ]
  },
  {
   "cell_type": "code",
   "execution_count": null,
   "id": "sought-aerospace",
   "metadata": {},
   "outputs": [],
   "source": [
    "#| export\n",
    "def is_time_series_adf_stationary(adf_df: pd.DataFrame,) -> display:\n",
    "\n",
    "    idx = 'no constant, no trend'\n",
    "    col = (\n",
    "        \"Augmented Dickey-Fuller\",\n",
    "        \"MacKinnon’s p-value\",\n",
    "    )\n",
    "    p_value = adf_df.loc[idx, col].values[0]\n",
    "\n",
    "    issta = ' not ' if p_value > 0.05 else ' '\n",
    "    text = f\"Under {idx} regression the time series is {issta} stationary\"\n",
    "    return display(Markdown(text))"
   ]
  },
  {
   "cell_type": "code",
   "execution_count": null,
   "id": "theoretical-withdrawal",
   "metadata": {},
   "outputs": [
    {
     "data": {
      "text/markdown": [
       "Under no constant, no trend regression the time series is  not  stationary"
      ],
      "text/plain": [
       "<IPython.core.display.Markdown object>"
      ]
     },
     "metadata": {},
     "output_type": "display_data"
    }
   ],
   "source": [
    "##%% export \n",
    "\n",
    "unit_root_tests.is_time_series_adf_stationary(adf_df)"
   ]
  },
  {
   "cell_type": "code",
   "execution_count": null,
   "id": "referenced-anchor",
   "metadata": {},
   "outputs": [],
   "source": []
  }
 ],
 "metadata": {
  "kernelspec": {
   "display_name": "Python 3.8.6 ('base')",
   "language": "python",
   "name": "python3"
  }
 },
 "nbformat": 4,
 "nbformat_minor": 5
}
