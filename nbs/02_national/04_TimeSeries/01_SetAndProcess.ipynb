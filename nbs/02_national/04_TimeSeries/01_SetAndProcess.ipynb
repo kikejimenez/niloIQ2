{
 "cells": [
  {
   "cell_type": "raw",
   "metadata": {},
   "source": [
    "---\n",
    "{}\n",
    "\n",
    "---\n",
    "\n"
   ]
  },
  {
   "cell_type": "code",
   "execution_count": null,
   "id": "recognized-probe",
   "metadata": {},
   "outputs": [],
   "source": [
    "#| default_exp time_series.process"
   ]
  },
  {
   "cell_type": "code",
   "execution_count": null,
   "id": "taken-positive",
   "metadata": {},
   "outputs": [],
   "source": [
    "#| export\n",
    "\n",
    "from typing import Dict, Union,Optional\n",
    "\n",
    "import pandas as pd"
   ]
  },
  {
   "cell_type": "code",
   "execution_count": null,
   "id": "aggressive-brother",
   "metadata": {},
   "outputs": [
    {
     "ename": "SyntaxError",
     "evalue": "invalid syntax (<ipython-input-2-4101697f8fce>, line 11)",
     "output_type": "error",
     "traceback": [
      "\u001b[0;36m  Input \u001b[0;32mIn [2]\u001b[0;36m\u001b[0m\n\u001b[0;31m    if agg_method is None\u001b[0m\n\u001b[0m                         ^\u001b[0m\n\u001b[0;31mSyntaxError\u001b[0m\u001b[0;31m:\u001b[0m invalid syntax\n"
     ]
    }
   ],
   "source": [
    "#| export\n",
    "\n",
    "\n",
    "def time_series(\n",
    "    df: pd.DataFrame,\n",
    "    time_column: str,\n",
    "    freq: Union[str, list],\n",
    "    agg_method: Union[str, dict],\n",
    ") -> Union[pd.DataFrame, Dict[str, pd.DataFrame]]:\n",
    "\n",
    "    cols = [x for x in agg_method.keys()]\n",
    "    cols.append(time_column)\n",
    "    ts = df[cols]\n",
    "\n",
    "    ts.set_index(\n",
    "        time_column,\n",
    "        inplace=True,\n",
    "    )\n",
    "\n",
    "    if type(freq) == str:\n",
    "        ts = ts.resample(freq).agg(agg_method)\n",
    "    elif type(freq) == list:\n",
    "        ts = {f: ts.resample(f).agg(agg_method) for f in freq}\n",
    "\n",
    "    return ts"
   ]
  },
  {
   "cell_type": "code",
   "execution_count": null,
   "id": "72662f5c",
   "metadata": {},
   "outputs": [],
   "source": [
    "from national.time_series import process"
   ]
  }
 ],
 "metadata": {
  "kernelspec": {
   "display_name": "Python 3.8.6 ('base')",
   "language": "python",
   "name": "python3"
  }
 },
 "nbformat": 4,
 "nbformat_minor": 5
}
